{
 "cells": [
  {
   "cell_type": "markdown",
   "metadata": {
    "colab_type": "text",
    "id": "view-in-github"
   },
   "source": [
    "<a href=\"https://colab.research.google.com/github/yussif-issah/css54FinalProject/blob/main/mangrove_parameter_tunning.ipynb\" target=\"_parent\"><img src=\"https://colab.research.google.com/assets/colab-badge.svg\" alt=\"Open In Colab\"/></a>"
   ]
  },
  {
   "cell_type": "code",
   "execution_count": null,
   "metadata": {
    "id": "C7CxHjNQEzwG"
   },
   "outputs": [],
   "source": [
    "!pip install wandb -Uq"
   ]
  },
  {
   "cell_type": "code",
   "execution_count": null,
   "metadata": {
    "colab": {
     "background_save": true
    },
    "id": "j9XJCBrnE5ae",
    "outputId": "5a79a168-c0da-4567-a57e-d789a64500b2"
   },
   "outputs": [
    {
     "ename": "ModuleNotFoundError",
     "evalue": "No module named 'wandb'",
     "output_type": "error",
     "traceback": [
      "\u001b[0;31m---------------------------------------------------------------------------\u001b[0m",
      "\u001b[0;31mModuleNotFoundError\u001b[0m                       Traceback (most recent call last)",
      "\u001b[0;32m<ipython-input-1-cd35ee5d166e>\u001b[0m in \u001b[0;36m<cell line: 1>\u001b[0;34m()\u001b[0m\n\u001b[0;32m----> 1\u001b[0;31m \u001b[0;32mimport\u001b[0m \u001b[0mwandb\u001b[0m\u001b[0;34m\u001b[0m\u001b[0;34m\u001b[0m\u001b[0m\n\u001b[0m",
      "\u001b[0;31mModuleNotFoundError\u001b[0m: No module named 'wandb'",
      "",
      "\u001b[0;31m---------------------------------------------------------------------------\u001b[0;32m\nNOTE: If your import is failing due to a missing package, you can\nmanually install dependencies using either !pip or !apt.\n\nTo view examples of installing some common dependencies, click the\n\"Open Examples\" button below.\n\u001b[0;31m---------------------------------------------------------------------------\u001b[0m\n"
     ]
    }
   ],
   "source": [
    "import wandb"
   ]
  },
  {
   "cell_type": "code",
   "execution_count": null,
   "metadata": {
    "colab": {
     "base_uri": "https://localhost:8080/"
    },
    "id": "smQ-4yEkE6Z-",
    "outputId": "5d1733f4-a922-4efc-db67-95928bfe600d"
   },
   "outputs": [
    {
     "data": {
      "text/plain": [
       "True"
      ]
     },
     "execution_count": 32,
     "metadata": {},
     "output_type": "execute_result"
    }
   ],
   "source": [
    "wandb.login()"
   ]
  },
  {
   "cell_type": "code",
   "execution_count": null,
   "metadata": {
    "id": "-SZM24EDFMjm"
   },
   "outputs": [],
   "source": [
    "sweep_config = {\n",
    "    'method': 'random'\n",
    "    }\n",
    "metric = {\n",
    "    'name': 'val_accuracy',\n",
    "    'goal': 'maximize'\n",
    "    }\n",
    "\n",
    "sweep_config['metric'] = metric\n",
    "parameters_dict = {\n",
    "    'optimizer': {\n",
    "        'values': ['adam', 'sgd']\n",
    "        },\n",
    "    'fc_layer1_size': {\n",
    "        'values': [128, 256, 512]\n",
    "        },\n",
    "\n",
    "    'dropout': {\n",
    "          'values': [0.3, 0.4, 0.5]\n",
    "        },\n",
    "    }\n",
    "\n",
    "sweep_config['parameters'] = parameters_dict\n",
    "parameters_dict.update({\n",
    "    'epochs': {\n",
    "        'value': 10}\n",
    "    })\n",
    "parameters_dict.update({\n",
    "    'learning_rate': {\n",
    "        # a flat distribution between 0 and 0.1\n",
    "        'distribution': 'uniform',\n",
    "        'min': 0.0001,\n",
    "        'max': 0.01\n",
    "      },\n",
    "    'batch_size': {\n",
    "        # integers between 32 and 256\n",
    "        # with evenly-distributed logarithms\n",
    "        'distribution': 'q_log_uniform_values',\n",
    "        'q': 8,\n",
    "        'min': 32,\n",
    "        'max': ,\n",
    "      }\n",
    "    })\n"
   ]
  },
  {
   "cell_type": "code",
   "execution_count": null,
   "metadata": {
    "colab": {
     "base_uri": "https://localhost:8080/"
    },
    "id": "CeCGo_i8FfmC",
    "outputId": "8aef518f-ceb3-4d90-89e4-6449fe5c06ec"
   },
   "outputs": [
    {
     "name": "stdout",
     "output_type": "stream",
     "text": [
      "{'method': 'random',\n",
      " 'metric': {'goal': 'maximize', 'name': 'val_accuracy'},\n",
      " 'parameters': {'batch_size': {'distribution': 'q_log_uniform_values',\n",
      "                               'max': 64,\n",
      "                               'min': 12,\n",
      "                               'q': 8},\n",
      "                'dropout': {'values': [0.3, 0.4, 0.5]},\n",
      "                'epochs': {'value': 10},\n",
      "                'fc_layer1_size': {'values': [128, 256, 512]},\n",
      "                'learning_rate': {'distribution': 'uniform',\n",
      "                                  'max': 0.01,\n",
      "                                  'min': 0.0001},\n",
      "                'optimizer': {'values': ['adam', 'sgd']}}}\n"
     ]
    }
   ],
   "source": [
    "import pprint\n",
    "\n",
    "pprint.pprint(sweep_config)"
   ]
  },
  {
   "cell_type": "code",
   "execution_count": null,
   "metadata": {
    "colab": {
     "base_uri": "https://localhost:8080/"
    },
    "id": "8SYNBfwDFhE4",
    "outputId": "0a70f702-b279-41a1-b145-5ae0112a7734"
   },
   "outputs": [
    {
     "name": "stdout",
     "output_type": "stream",
     "text": [
      "Create sweep with ID: 3in1u5mq\n",
      "Sweep URL: https://wandb.ai/gyanko/assignment3-sweeps/sweeps/3in1u5mq\n"
     ]
    }
   ],
   "source": [
    "sweep_id = wandb.sweep(sweep_config, project=\"assignment3-sweeps\")"
   ]
  },
  {
   "cell_type": "code",
   "execution_count": null,
   "metadata": {
    "id": "dNtQaTOpHTVL"
   },
   "outputs": [],
   "source": [
    "import os\n",
    "from PIL import Image\n",
    "import torch\n",
    "from torch.utils.data import Dataset,DataLoader\n",
    "from torchvision import transforms,models\n",
    "import torch.nn as nn\n",
    "import torch.optim as optim\n",
    "from torch.utils.data import random_split"
   ]
  },
  {
   "cell_type": "code",
   "execution_count": null,
   "metadata": {
    "colab": {
     "base_uri": "https://localhost:8080/"
    },
    "id": "okTj5jRsHbLW",
    "outputId": "ce910f6b-d95c-4b01-d09e-479a40fbcf2e"
   },
   "outputs": [
    {
     "name": "stdout",
     "output_type": "stream",
     "text": [
      "Drive already mounted at /content/drive; to attempt to forcibly remount, call drive.mount(\"/content/drive\", force_remount=True).\n"
     ]
    }
   ],
   "source": [
    "from google.colab import drive\n",
    "drive.mount('/content/drive')"
   ]
  },
  {
   "cell_type": "code",
   "execution_count": null,
   "metadata": {
    "id": "ylU1h2tvFmB9"
   },
   "outputs": [],
   "source": [
    "device = torch.device(\"cuda:0\" if torch.cuda.is_available() else \"cpu\")"
   ]
  },
  {
   "cell_type": "code",
   "execution_count": null,
   "metadata": {
    "id": "2G3_-8oyIk4U"
   },
   "outputs": [],
   "source": [
    "NUM_CLASSES = 101\n",
    "TRAINING_DATA_PATH = \"/content/drive/MyDrive/train_files\"\n",
    "LABELS_FILE_PATH = \"/content/drive/MyDrive/labels.txt\""
   ]
  },
  {
   "cell_type": "code",
   "execution_count": null,
   "metadata": {
    "id": "LX7ZTG-BFtk8"
   },
   "outputs": [],
   "source": [
    "def buildModel(fc_layer1,drop_out):\n",
    "  model = models.mobilenet_v3_small(pretrained=True)\n",
    "  head = nn.Sequential(\n",
    "        nn.Linear(model.classifier[-1].in_features, 256),\n",
    "        nn.ReLU(),\n",
    "        nn.Dropout(drop_out),\n",
    "        nn.Linear(fc_layer1, NUM_CLASSES)\n",
    "  )\n",
    "\n",
    "  model.classifier[-1] = head\n",
    "  return model.to(device)"
   ]
  },
  {
   "cell_type": "code",
   "execution_count": null,
   "metadata": {
    "id": "fiHez_BgFzXu"
   },
   "outputs": [],
   "source": [
    "def buildOptimizer(model,optimizer,learning_rate):\n",
    "  if optimizer == \"sgd\":\n",
    "        optimizer = optim.SGD(model.parameters(),\n",
    "                              lr=learning_rate, momentum=0.9)\n",
    "  elif optimizer == \"adam\":\n",
    "        optimizer = optim.Adam(model.parameters(),\n",
    "                               lr=learning_rate)\n",
    "  return optimizer"
   ]
  },
  {
   "cell_type": "code",
   "execution_count": null,
   "metadata": {
    "id": "ztPTShJbF52N"
   },
   "outputs": [],
   "source": [
    "criterion = nn.CrossEntropyLoss()"
   ]
  },
  {
   "cell_type": "code",
   "execution_count": null,
   "metadata": {
    "id": "Kznl4puCfpdy"
   },
   "outputs": [],
   "source": [
    "class CustomDataset(Dataset):\n",
    "    def __init__(self, img_folder, label_file, transform=None):\n",
    "        self.img_folder = img_folder\n",
    "        self.label_file = label_file\n",
    "        self.transform = transform\n",
    "        self.data = self._read_data()\n",
    "\n",
    "    def _read_data(self):\n",
    "        data = []\n",
    "        with open(self.label_file, 'r') as f:\n",
    "            labels = [int(label.strip()) for label in f.readlines()]\n",
    "        img_files = sorted(os.listdir(self.img_folder))\n",
    "        for img_file, label in zip(img_files, labels):\n",
    "            img_path = os.path.join(self.img_folder, img_file)\n",
    "            data.append((img_path, label))\n",
    "        return data\n",
    "\n",
    "    def __len__(self):\n",
    "        return len(self.data)\n",
    "\n",
    "    def __getitem__(self, idx):\n",
    "        img_path, label = self.data[idx]\n",
    "        image = Image.open(img_path).convert('RGB')\n",
    "        if self.transform:\n",
    "            image = self.transform(image)\n",
    "        return image, label"
   ]
  },
  {
   "cell_type": "code",
   "execution_count": null,
   "metadata": {
    "id": "6fsTT_Dzq75l"
   },
   "outputs": [],
   "source": [
    "def buildDataLoader(batchSize,image_folder, label_file):\n",
    "  ttransform = transforms.Compose([\n",
    "    transforms.RandomResizedCrop(224),\n",
    "    transforms.RandomHorizontalFlip(),\n",
    "    transforms.ToTensor(),\n",
    "    transforms.Normalize([0.485, 0.456, 0.406],[0.229, 0.224, 0.225])\n",
    "])\n",
    "  whole_data = CustomDataset(image_folder,label_file,ttransform)\n",
    "\n",
    "  generator1 = torch.Generator().manual_seed(42)\n",
    "  generator2 = torch.Generator().manual_seed(32)\n",
    "\n",
    "  tune_size = int(0.1*len(whole_data))\n",
    "  rest_size = len(whole_data) - tune_size\n",
    "\n",
    "  training_size = int(0.8*tune_size)\n",
    "  val_size = tune_size - training_size\n",
    "\n",
    "  parameter_tuning_dataset,_ = random_split(whole_data,[tune_size, rest_size], generator=generator1)\n",
    "  train_data, val_data = random_split(parameter_tuning_dataset,[training_size, val_size], generator=generator2)\n",
    "\n",
    "\n",
    "  train_data_loader = DataLoader(train_data,batch_size=batchSize,shuffle=True)\n",
    "  val_data_loader = DataLoader(val_data,batch_size=64,shuffle=True)\n",
    "\n",
    "  image_datasets = {\"train\":train_data,\"val\":val_data}\n",
    "  data_loaders = {\"train\": train_data_loader,\"val\":val_data_loader}\n",
    "\n",
    "  return data_loaders,image_datasets"
   ]
  },
  {
   "cell_type": "code",
   "execution_count": null,
   "metadata": {
    "id": "50WDt0htGPMm"
   },
   "outputs": [],
   "source": [
    "def trainModel(config=None):\n",
    "\n",
    "  with wandb.init(config=config):\n",
    "\n",
    "    config = wandb.config\n",
    "    data_loaders,datasets = buildDataLoader(config.batch_size,TRAINING_DATA_PATH,LABELS_FILE_PATH)\n",
    "    model = buildModel(config.fc_layer1_size,config.dropout)\n",
    "    optimizer = buildOptimizer(model,config.optimizer,config.learning_rate)\n",
    "\n",
    "    for epoch in range(config.epochs):\n",
    "\n",
    "      for phase in [\"train\",\"val\"]:\n",
    "\n",
    "        if phase == \"train\":\n",
    "          model.train()\n",
    "        else:\n",
    "          model.eval()\n",
    "\n",
    "        running_loss = 0\n",
    "        correct = 0\n",
    "\n",
    "        for inputs,labels in data_loaders[phase]:\n",
    "          inputs,labels = inputs.to(device),labels.to(device)\n",
    "\n",
    "          optimizer.zero_grad()\n",
    "\n",
    "          with torch.set_grad_enabled(phase==\"train\"):\n",
    "            outputs = model(inputs)\n",
    "            _,preds = torch.max(outputs,1)\n",
    "            loss = criterion(outputs,labels)\n",
    "\n",
    "            if phase == \"train\":\n",
    "              loss.backward()\n",
    "              optimizer.step()\n",
    "\n",
    "          running_loss += loss.item()*inputs.size(0)\n",
    "          correct += torch.sum(preds ==labels)\n",
    "\n",
    "          epoch_loss = running_loss / len(datasets[phase])\n",
    "          epoch_acc = correct.double() / len(datasets[phase])\n",
    "\n",
    "          if phase == \"train\":\n",
    "            wandb.log({\"epoch\": epoch,\"training loss\": epoch_loss, \"training accuracy\":epoch_acc})\n",
    "          else:\n",
    "            wandb.log({\"epoch\": epoch,\"validation loss\": epoch_loss, \"validation accuracy\":epoch_acc})"
   ]
  },
  {
   "cell_type": "code",
   "execution_count": null,
   "metadata": {
    "colab": {
     "background_save": true,
     "base_uri": "https://localhost:8080/",
     "height": 1000,
     "referenced_widgets": [
      "c6ecd9fedcf84f6b92cb367bb0924425",
      "993ec946905941bcb9641fcca84b3eef",
      "ab92bad5f23542ac9dcea7b8bc87b71b",
      "1279c5bf08614ea3bba9f2ded8206701",
      "4c85fcf0fbc64dd9adabd26a91bedd5e",
      "18dac533bd29402993aa0cfc377726c0",
      "ebed68ffe16744d0b84d1cd1d4fb7b4a",
      "8c4afa413b8d4426a1e0fc8a6f8d81e3",
      "4a7a3ac3933f4806a9e9e53d5896712d",
      "c50e205cf21747d69277383655f7feff",
      "0be0fe4410ef4ef0be2bd0c65aadabad",
      "6059177de70544629438ecdb70321e88",
      "7dc060959d9d477695fe9d433a8b0437",
      "ee5087e6d5c54111a7ebcf652a65c67e"
     ]
    },
    "id": "7AGGOQxxoVTz",
    "outputId": "f9b0377c-71f5-4e03-e18e-fc4ac4f9fc7a"
   },
   "outputs": [
    {
     "name": "stderr",
     "output_type": "stream",
     "text": [
      "\u001b[34m\u001b[1mwandb\u001b[0m: Agent Starting Run: cfct7s29 with config:\n",
      "\u001b[34m\u001b[1mwandb\u001b[0m: \tbatch_size: 56\n",
      "\u001b[34m\u001b[1mwandb\u001b[0m: \tdropout: 0.3\n",
      "\u001b[34m\u001b[1mwandb\u001b[0m: \tepochs: 10\n",
      "\u001b[34m\u001b[1mwandb\u001b[0m: \tfc_layer1_size: 128\n",
      "\u001b[34m\u001b[1mwandb\u001b[0m: \tlearning_rate: 0.0024356831129314143\n",
      "\u001b[34m\u001b[1mwandb\u001b[0m: \toptimizer: adam\n"
     ]
    },
    {
     "data": {
      "text/html": [
       "Tracking run with wandb version 0.16.6"
      ],
      "text/plain": [
       "<IPython.core.display.HTML object>"
      ]
     },
     "metadata": {},
     "output_type": "display_data"
    },
    {
     "data": {
      "text/html": [
       "Run data is saved locally in <code>/content/wandb/run-20240409_170135-cfct7s29</code>"
      ],
      "text/plain": [
       "<IPython.core.display.HTML object>"
      ]
     },
     "metadata": {},
     "output_type": "display_data"
    },
    {
     "data": {
      "text/html": [
       "Syncing run <strong><a href='https://wandb.ai/gyanko/assignment3-sweeps/runs/cfct7s29' target=\"_blank\">copper-sweep-1</a></strong> to <a href='https://wandb.ai/gyanko/assignment3-sweeps' target=\"_blank\">Weights & Biases</a> (<a href='https://wandb.me/run' target=\"_blank\">docs</a>)<br/>Sweep page: <a href='https://wandb.ai/gyanko/assignment3-sweeps/sweeps/mt89zwv6' target=\"_blank\">https://wandb.ai/gyanko/assignment3-sweeps/sweeps/mt89zwv6</a>"
      ],
      "text/plain": [
       "<IPython.core.display.HTML object>"
      ]
     },
     "metadata": {},
     "output_type": "display_data"
    },
    {
     "data": {
      "text/html": [
       " View project at <a href='https://wandb.ai/gyanko/assignment3-sweeps' target=\"_blank\">https://wandb.ai/gyanko/assignment3-sweeps</a>"
      ],
      "text/plain": [
       "<IPython.core.display.HTML object>"
      ]
     },
     "metadata": {},
     "output_type": "display_data"
    },
    {
     "data": {
      "text/html": [
       " View sweep at <a href='https://wandb.ai/gyanko/assignment3-sweeps/sweeps/mt89zwv6' target=\"_blank\">https://wandb.ai/gyanko/assignment3-sweeps/sweeps/mt89zwv6</a>"
      ],
      "text/plain": [
       "<IPython.core.display.HTML object>"
      ]
     },
     "metadata": {},
     "output_type": "display_data"
    },
    {
     "data": {
      "text/html": [
       " View run at <a href='https://wandb.ai/gyanko/assignment3-sweeps/runs/cfct7s29' target=\"_blank\">https://wandb.ai/gyanko/assignment3-sweeps/runs/cfct7s29</a>"
      ],
      "text/plain": [
       "<IPython.core.display.HTML object>"
      ]
     },
     "metadata": {},
     "output_type": "display_data"
    },
    {
     "name": "stderr",
     "output_type": "stream",
     "text": [
      "/usr/local/lib/python3.10/dist-packages/torchvision/models/_utils.py:208: UserWarning: The parameter 'pretrained' is deprecated since 0.13 and may be removed in the future, please use 'weights' instead.\n",
      "  warnings.warn(\n",
      "/usr/local/lib/python3.10/dist-packages/torchvision/models/_utils.py:223: UserWarning: Arguments other than a weight enum or `None` for 'weights' are deprecated since 0.13 and may be removed in the future. The current behavior is equivalent to passing `weights=MobileNet_V3_Small_Weights.IMAGENET1K_V1`. You can also use `weights=MobileNet_V3_Small_Weights.DEFAULT` to get the most up-to-date weights.\n",
      "  warnings.warn(msg)\n"
     ]
    },
    {
     "data": {
      "application/vnd.jupyter.widget-view+json": {
       "model_id": "c6ecd9fedcf84f6b92cb367bb0924425",
       "version_major": 2,
       "version_minor": 0
      },
      "text/plain": [
       "VBox(children=(Label(value='0.011 MB of 0.011 MB uploaded\\r'), FloatProgress(value=1.0, max=1.0)))"
      ]
     },
     "metadata": {},
     "output_type": "display_data"
    },
    {
     "data": {
      "text/html": [
       "<style>\n",
       "    table.wandb td:nth-child(1) { padding: 0 10px; text-align: left ; width: auto;} td:nth-child(2) {text-align: left ; width: 100%}\n",
       "    .wandb-row { display: flex; flex-direction: row; flex-wrap: wrap; justify-content: flex-start; width: 100% }\n",
       "    .wandb-col { display: flex; flex-direction: column; flex-basis: 100%; flex: 1; padding: 10px; }\n",
       "    </style>\n",
       "<div class=\"wandb-row\"><div class=\"wandb-col\"><h3>Run history:</h3><br/><table class=\"wandb\"><tr><td>epoch</td><td>▁▁▁▁▂▂▂▂▃▃▃▃▃▃▃▃▄▄▄▄▅▅▅▅▆▆▆▆▆▆▆▆▇▇▇▇████</td></tr><tr><td>training accuracy</td><td>▁▁▂▃▁▂▃▄▁▂▃▅▁▃▄▅▂▃▅▆▁▃▅▇▂▃▅▇▂▄▅▇▂▄▆▇▂▄▆█</td></tr><tr><td>training loss</td><td>▂▄▆█▁▃▄▆▁▃▄▅▁▂▄▄▁▂▃▄▁▂▃▄▁▂▃▃▁▂▂▃▁▂▂▃▁▁▂▃</td></tr><tr><td>validation accuracy</td><td>▁▅▆▁▅▅▁▅▆▁▆▇▂▆▇▁▅▆▁▆▇▂▆▇▃▇█▁▅▆</td></tr><tr><td>validation loss</td><td>▁▄▅▁▃▄▂▅▇▃▇█▂▄▅▂▆▇▂▅▇▂▅▆▂▅▇▂▅▆</td></tr></table><br/></div><div class=\"wandb-col\"><h3>Run summary:</h3><br/><table class=\"wandb\"><tr><td>epoch</td><td>9</td></tr><tr><td>training accuracy</td><td>0.77265</td></tr><tr><td>training loss</td><td>0.83765</td></tr><tr><td>validation accuracy</td><td>0.30612</td></tr><tr><td>validation loss</td><td>5.96748</td></tr></table><br/></div></div>"
      ],
      "text/plain": [
       "<IPython.core.display.HTML object>"
      ]
     },
     "metadata": {},
     "output_type": "display_data"
    },
    {
     "data": {
      "text/html": [
       " View run <strong style=\"color:#cdcd00\">copper-sweep-1</strong> at: <a href='https://wandb.ai/gyanko/assignment3-sweeps/runs/cfct7s29' target=\"_blank\">https://wandb.ai/gyanko/assignment3-sweeps/runs/cfct7s29</a><br/> View project at: <a href='https://wandb.ai/gyanko/assignment3-sweeps' target=\"_blank\">https://wandb.ai/gyanko/assignment3-sweeps</a><br/>Synced 5 W&B file(s), 0 media file(s), 0 artifact file(s) and 0 other file(s)"
      ],
      "text/plain": [
       "<IPython.core.display.HTML object>"
      ]
     },
     "metadata": {},
     "output_type": "display_data"
    },
    {
     "data": {
      "text/html": [
       "Find logs at: <code>./wandb/run-20240409_170135-cfct7s29/logs</code>"
      ],
      "text/plain": [
       "<IPython.core.display.HTML object>"
      ]
     },
     "metadata": {},
     "output_type": "display_data"
    },
    {
     "name": "stderr",
     "output_type": "stream",
     "text": [
      "\u001b[34m\u001b[1mwandb\u001b[0m: Sweep Agent: Waiting for job.\n",
      "\u001b[34m\u001b[1mwandb\u001b[0m: Job received.\n",
      "\u001b[34m\u001b[1mwandb\u001b[0m: Agent Starting Run: 65gos7qe with config:\n",
      "\u001b[34m\u001b[1mwandb\u001b[0m: \tbatch_size: 48\n",
      "\u001b[34m\u001b[1mwandb\u001b[0m: \tdropout: 0.3\n",
      "\u001b[34m\u001b[1mwandb\u001b[0m: \tepochs: 10\n",
      "\u001b[34m\u001b[1mwandb\u001b[0m: \tfc_layer1_size: 64\n",
      "\u001b[34m\u001b[1mwandb\u001b[0m: \tlearning_rate: 0.005914055837625587\n",
      "\u001b[34m\u001b[1mwandb\u001b[0m: \toptimizer: sgd\n"
     ]
    },
    {
     "data": {
      "text/html": [
       "Tracking run with wandb version 0.16.6"
      ],
      "text/plain": [
       "<IPython.core.display.HTML object>"
      ]
     },
     "metadata": {},
     "output_type": "display_data"
    },
    {
     "data": {
      "text/html": [
       "Run data is saved locally in <code>/content/wandb/run-20240409_171119-65gos7qe</code>"
      ],
      "text/plain": [
       "<IPython.core.display.HTML object>"
      ]
     },
     "metadata": {},
     "output_type": "display_data"
    },
    {
     "data": {
      "text/html": [
       "Syncing run <strong><a href='https://wandb.ai/gyanko/assignment3-sweeps/runs/65gos7qe' target=\"_blank\">woven-sweep-2</a></strong> to <a href='https://wandb.ai/gyanko/assignment3-sweeps' target=\"_blank\">Weights & Biases</a> (<a href='https://wandb.me/run' target=\"_blank\">docs</a>)<br/>Sweep page: <a href='https://wandb.ai/gyanko/assignment3-sweeps/sweeps/mt89zwv6' target=\"_blank\">https://wandb.ai/gyanko/assignment3-sweeps/sweeps/mt89zwv6</a>"
      ],
      "text/plain": [
       "<IPython.core.display.HTML object>"
      ]
     },
     "metadata": {},
     "output_type": "display_data"
    },
    {
     "data": {
      "text/html": [
       " View project at <a href='https://wandb.ai/gyanko/assignment3-sweeps' target=\"_blank\">https://wandb.ai/gyanko/assignment3-sweeps</a>"
      ],
      "text/plain": [
       "<IPython.core.display.HTML object>"
      ]
     },
     "metadata": {},
     "output_type": "display_data"
    },
    {
     "data": {
      "text/html": [
       " View sweep at <a href='https://wandb.ai/gyanko/assignment3-sweeps/sweeps/mt89zwv6' target=\"_blank\">https://wandb.ai/gyanko/assignment3-sweeps/sweeps/mt89zwv6</a>"
      ],
      "text/plain": [
       "<IPython.core.display.HTML object>"
      ]
     },
     "metadata": {},
     "output_type": "display_data"
    },
    {
     "data": {
      "text/html": [
       " View run at <a href='https://wandb.ai/gyanko/assignment3-sweeps/runs/65gos7qe' target=\"_blank\">https://wandb.ai/gyanko/assignment3-sweeps/runs/65gos7qe</a>"
      ],
      "text/plain": [
       "<IPython.core.display.HTML object>"
      ]
     },
     "metadata": {},
     "output_type": "display_data"
    },
    {
     "name": "stderr",
     "output_type": "stream",
     "text": [
      "/usr/local/lib/python3.10/dist-packages/torchvision/models/_utils.py:208: UserWarning: The parameter 'pretrained' is deprecated since 0.13 and may be removed in the future, please use 'weights' instead.\n",
      "  warnings.warn(\n",
      "/usr/local/lib/python3.10/dist-packages/torchvision/models/_utils.py:223: UserWarning: Arguments other than a weight enum or `None` for 'weights' are deprecated since 0.13 and may be removed in the future. The current behavior is equivalent to passing `weights=MobileNet_V3_Small_Weights.IMAGENET1K_V1`. You can also use `weights=MobileNet_V3_Small_Weights.DEFAULT` to get the most up-to-date weights.\n",
      "  warnings.warn(msg)\n"
     ]
    },
    {
     "data": {
      "application/vnd.jupyter.widget-view+json": {
       "model_id": "993ec946905941bcb9641fcca84b3eef",
       "version_major": 2,
       "version_minor": 0
      },
      "text/plain": [
       "VBox(children=(Label(value='0.001 MB of 0.001 MB uploaded\\r'), FloatProgress(value=1.0, max=1.0)))"
      ]
     },
     "metadata": {},
     "output_type": "display_data"
    },
    {
     "data": {
      "text/html": [
       "<style>\n",
       "    table.wandb td:nth-child(1) { padding: 0 10px; text-align: left ; width: auto;} td:nth-child(2) {text-align: left ; width: 100%}\n",
       "    .wandb-row { display: flex; flex-direction: row; flex-wrap: wrap; justify-content: flex-start; width: 100% }\n",
       "    .wandb-col { display: flex; flex-direction: column; flex-basis: 100%; flex: 1; padding: 10px; }\n",
       "    </style>\n",
       "<div class=\"wandb-row\"><div class=\"wandb-col\"><h3>Run history:</h3><br/><table class=\"wandb\"><tr><td>epoch</td><td>▁▁▁▁▂▂▂▂▃▃▃▃▃▃▃▃▄▄▄▄▅▅▅▅▆▆▆▆▆▆▆▆▇▇▇▇████</td></tr><tr><td>training accuracy</td><td>▁▁▁▁▁▂▃▃▂▂▃▅▁▂▃▄▂▂▄▅▁▃▄▅▂▃▄▆▁▃▅▆▂▄▅▇▃▄▆█</td></tr><tr><td>training loss</td><td>▂▃▆█▁▄▅█▂▃▆█▁▃▄▆▂▃▄▆▁▃▅▆▁▃▄▆▁▃▄▅▁▃▄▅▂▂▄▅</td></tr><tr><td>validation accuracy</td><td>▁▃▃▁▄▄▂▄▄▂▄▅▂▅▅▂▄▅▃▆▆▃▆▇▃▆▇▄▇█</td></tr><tr><td>validation loss</td><td>▃▇█▂▆▇▂▅▆▂▅▆▂▅▆▂▄▅▁▄▅▁▄▅▁▄▅▁▄▅</td></tr></table><br/></div><div class=\"wandb-col\"><h3>Run summary:</h3><br/><table class=\"wandb\"><tr><td>epoch</td><td>9</td></tr><tr><td>training accuracy</td><td>0.48034</td></tr><tr><td>training loss</td><td>2.39361</td></tr><tr><td>validation accuracy</td><td>0.42177</td></tr><tr><td>validation loss</td><td>2.89983</td></tr></table><br/></div></div>"
      ],
      "text/plain": [
       "<IPython.core.display.HTML object>"
      ]
     },
     "metadata": {},
     "output_type": "display_data"
    },
    {
     "data": {
      "text/html": [
       " View run <strong style=\"color:#cdcd00\">woven-sweep-2</strong> at: <a href='https://wandb.ai/gyanko/assignment3-sweeps/runs/65gos7qe' target=\"_blank\">https://wandb.ai/gyanko/assignment3-sweeps/runs/65gos7qe</a><br/> View project at: <a href='https://wandb.ai/gyanko/assignment3-sweeps' target=\"_blank\">https://wandb.ai/gyanko/assignment3-sweeps</a><br/>Synced 5 W&B file(s), 0 media file(s), 0 artifact file(s) and 0 other file(s)"
      ],
      "text/plain": [
       "<IPython.core.display.HTML object>"
      ]
     },
     "metadata": {},
     "output_type": "display_data"
    },
    {
     "data": {
      "text/html": [
       "Find logs at: <code>./wandb/run-20240409_171119-65gos7qe/logs</code>"
      ],
      "text/plain": [
       "<IPython.core.display.HTML object>"
      ]
     },
     "metadata": {},
     "output_type": "display_data"
    },
    {
     "name": "stderr",
     "output_type": "stream",
     "text": [
      "\u001b[34m\u001b[1mwandb\u001b[0m: Agent Starting Run: 5ldm7l9h with config:\n",
      "\u001b[34m\u001b[1mwandb\u001b[0m: \tbatch_size: 48\n",
      "\u001b[34m\u001b[1mwandb\u001b[0m: \tdropout: 0.4\n",
      "\u001b[34m\u001b[1mwandb\u001b[0m: \tepochs: 10\n",
      "\u001b[34m\u001b[1mwandb\u001b[0m: \tfc_layer1_size: 128\n",
      "\u001b[34m\u001b[1mwandb\u001b[0m: \tlearning_rate: 0.009606521172296175\n",
      "\u001b[34m\u001b[1mwandb\u001b[0m: \toptimizer: adam\n"
     ]
    },
    {
     "data": {
      "text/html": [
       "Tracking run with wandb version 0.16.6"
      ],
      "text/plain": [
       "<IPython.core.display.HTML object>"
      ]
     },
     "metadata": {},
     "output_type": "display_data"
    },
    {
     "data": {
      "text/html": [
       "Run data is saved locally in <code>/content/wandb/run-20240409_172133-5ldm7l9h</code>"
      ],
      "text/plain": [
       "<IPython.core.display.HTML object>"
      ]
     },
     "metadata": {},
     "output_type": "display_data"
    },
    {
     "data": {
      "text/html": [
       "Syncing run <strong><a href='https://wandb.ai/gyanko/assignment3-sweeps/runs/5ldm7l9h' target=\"_blank\">faithful-sweep-3</a></strong> to <a href='https://wandb.ai/gyanko/assignment3-sweeps' target=\"_blank\">Weights & Biases</a> (<a href='https://wandb.me/run' target=\"_blank\">docs</a>)<br/>Sweep page: <a href='https://wandb.ai/gyanko/assignment3-sweeps/sweeps/mt89zwv6' target=\"_blank\">https://wandb.ai/gyanko/assignment3-sweeps/sweeps/mt89zwv6</a>"
      ],
      "text/plain": [
       "<IPython.core.display.HTML object>"
      ]
     },
     "metadata": {},
     "output_type": "display_data"
    },
    {
     "data": {
      "text/html": [
       " View project at <a href='https://wandb.ai/gyanko/assignment3-sweeps' target=\"_blank\">https://wandb.ai/gyanko/assignment3-sweeps</a>"
      ],
      "text/plain": [
       "<IPython.core.display.HTML object>"
      ]
     },
     "metadata": {},
     "output_type": "display_data"
    },
    {
     "data": {
      "text/html": [
       " View sweep at <a href='https://wandb.ai/gyanko/assignment3-sweeps/sweeps/mt89zwv6' target=\"_blank\">https://wandb.ai/gyanko/assignment3-sweeps/sweeps/mt89zwv6</a>"
      ],
      "text/plain": [
       "<IPython.core.display.HTML object>"
      ]
     },
     "metadata": {},
     "output_type": "display_data"
    },
    {
     "data": {
      "text/html": [
       " View run at <a href='https://wandb.ai/gyanko/assignment3-sweeps/runs/5ldm7l9h' target=\"_blank\">https://wandb.ai/gyanko/assignment3-sweeps/runs/5ldm7l9h</a>"
      ],
      "text/plain": [
       "<IPython.core.display.HTML object>"
      ]
     },
     "metadata": {},
     "output_type": "display_data"
    },
    {
     "data": {
      "application/vnd.jupyter.widget-view+json": {
       "model_id": "ab92bad5f23542ac9dcea7b8bc87b71b",
       "version_major": 2,
       "version_minor": 0
      },
      "text/plain": [
       "VBox(children=(Label(value='0.011 MB of 0.011 MB uploaded\\r'), FloatProgress(value=1.0, max=1.0)))"
      ]
     },
     "metadata": {},
     "output_type": "display_data"
    },
    {
     "data": {
      "text/html": [
       "<style>\n",
       "    table.wandb td:nth-child(1) { padding: 0 10px; text-align: left ; width: auto;} td:nth-child(2) {text-align: left ; width: 100%}\n",
       "    .wandb-row { display: flex; flex-direction: row; flex-wrap: wrap; justify-content: flex-start; width: 100% }\n",
       "    .wandb-col { display: flex; flex-direction: column; flex-basis: 100%; flex: 1; padding: 10px; }\n",
       "    </style>\n",
       "<div class=\"wandb-row\"><div class=\"wandb-col\"><h3>Run history:</h3><br/><table class=\"wandb\"><tr><td>epoch</td><td>▁▁▁▁▂▂▂▂▃▃▃▃▃▃▃▃▄▄▄▄▅▅▅▅▆▆▆▆▆▆▆▆▇▇▇▇████</td></tr><tr><td>training accuracy</td><td>▁▂▃▅▁▃▅▇▂▃▅▇▁▄▅▇▂▃▅▇▁▃▅▇▂▅▆█▁▃▅▆▂▄▅▇▂▃▆▇</td></tr><tr><td>training loss</td><td>▂▄▆█▁▄▅▇▂▃▅█▁▃▅▇▂▃▅█▁▃▆▇▂▄▆█▁▄▆▇▂▄▅█▂▄▆█</td></tr><tr><td>validation accuracy</td><td>▄▅▅▂▂▂▁▁▁▃▅▅▂▄▄▂▅▅▃▅▅▃▄▅▃▅▅▄▇█</td></tr><tr><td>validation loss</td><td>▂▄▄▃▅▅▁▂▂▁▂▂▁▁▁▄▇█▂▂▂▂▃▄▁▁▁▁▁▁</td></tr></table><br/></div><div class=\"wandb-col\"><h3>Run summary:</h3><br/><table class=\"wandb\"><tr><td>epoch</td><td>9</td></tr><tr><td>training accuracy</td><td>0.17265</td></tr><tr><td>training loss</td><td>3.91792</td></tr><tr><td>validation accuracy</td><td>0.18367</td></tr><tr><td>validation loss</td><td>155.87403</td></tr></table><br/></div></div>"
      ],
      "text/plain": [
       "<IPython.core.display.HTML object>"
      ]
     },
     "metadata": {},
     "output_type": "display_data"
    },
    {
     "data": {
      "text/html": [
       " View run <strong style=\"color:#cdcd00\">faithful-sweep-3</strong> at: <a href='https://wandb.ai/gyanko/assignment3-sweeps/runs/5ldm7l9h' target=\"_blank\">https://wandb.ai/gyanko/assignment3-sweeps/runs/5ldm7l9h</a><br/> View project at: <a href='https://wandb.ai/gyanko/assignment3-sweeps' target=\"_blank\">https://wandb.ai/gyanko/assignment3-sweeps</a><br/>Synced 4 W&B file(s), 0 media file(s), 0 artifact file(s) and 0 other file(s)"
      ],
      "text/plain": [
       "<IPython.core.display.HTML object>"
      ]
     },
     "metadata": {},
     "output_type": "display_data"
    },
    {
     "data": {
      "text/html": [
       "Find logs at: <code>./wandb/run-20240409_172133-5ldm7l9h/logs</code>"
      ],
      "text/plain": [
       "<IPython.core.display.HTML object>"
      ]
     },
     "metadata": {},
     "output_type": "display_data"
    },
    {
     "name": "stderr",
     "output_type": "stream",
     "text": [
      "\u001b[34m\u001b[1mwandb\u001b[0m: Agent Starting Run: k91376v3 with config:\n",
      "\u001b[34m\u001b[1mwandb\u001b[0m: \tbatch_size: 120\n",
      "\u001b[34m\u001b[1mwandb\u001b[0m: \tdropout: 0.5\n",
      "\u001b[34m\u001b[1mwandb\u001b[0m: \tepochs: 10\n",
      "\u001b[34m\u001b[1mwandb\u001b[0m: \tfc_layer1_size: 256\n",
      "\u001b[34m\u001b[1mwandb\u001b[0m: \tlearning_rate: 0.00722382543441605\n",
      "\u001b[34m\u001b[1mwandb\u001b[0m: \toptimizer: adam\n"
     ]
    },
    {
     "data": {
      "text/html": [
       "Tracking run with wandb version 0.16.6"
      ],
      "text/plain": [
       "<IPython.core.display.HTML object>"
      ]
     },
     "metadata": {},
     "output_type": "display_data"
    },
    {
     "data": {
      "text/html": [
       "Run data is saved locally in <code>/content/wandb/run-20240409_173143-k91376v3</code>"
      ],
      "text/plain": [
       "<IPython.core.display.HTML object>"
      ]
     },
     "metadata": {},
     "output_type": "display_data"
    },
    {
     "data": {
      "text/html": [
       "Syncing run <strong><a href='https://wandb.ai/gyanko/assignment3-sweeps/runs/k91376v3' target=\"_blank\">dashing-sweep-4</a></strong> to <a href='https://wandb.ai/gyanko/assignment3-sweeps' target=\"_blank\">Weights & Biases</a> (<a href='https://wandb.me/run' target=\"_blank\">docs</a>)<br/>Sweep page: <a href='https://wandb.ai/gyanko/assignment3-sweeps/sweeps/mt89zwv6' target=\"_blank\">https://wandb.ai/gyanko/assignment3-sweeps/sweeps/mt89zwv6</a>"
      ],
      "text/plain": [
       "<IPython.core.display.HTML object>"
      ]
     },
     "metadata": {},
     "output_type": "display_data"
    },
    {
     "data": {
      "text/html": [
       " View project at <a href='https://wandb.ai/gyanko/assignment3-sweeps' target=\"_blank\">https://wandb.ai/gyanko/assignment3-sweeps</a>"
      ],
      "text/plain": [
       "<IPython.core.display.HTML object>"
      ]
     },
     "metadata": {},
     "output_type": "display_data"
    },
    {
     "data": {
      "text/html": [
       " View sweep at <a href='https://wandb.ai/gyanko/assignment3-sweeps/sweeps/mt89zwv6' target=\"_blank\">https://wandb.ai/gyanko/assignment3-sweeps/sweeps/mt89zwv6</a>"
      ],
      "text/plain": [
       "<IPython.core.display.HTML object>"
      ]
     },
     "metadata": {},
     "output_type": "display_data"
    },
    {
     "data": {
      "text/html": [
       " View run at <a href='https://wandb.ai/gyanko/assignment3-sweeps/runs/k91376v3' target=\"_blank\">https://wandb.ai/gyanko/assignment3-sweeps/runs/k91376v3</a>"
      ],
      "text/plain": [
       "<IPython.core.display.HTML object>"
      ]
     },
     "metadata": {},
     "output_type": "display_data"
    },
    {
     "data": {
      "application/vnd.jupyter.widget-view+json": {
       "model_id": "1279c5bf08614ea3bba9f2ded8206701",
       "version_major": 2,
       "version_minor": 0
      },
      "text/plain": [
       "VBox(children=(Label(value='0.011 MB of 0.011 MB uploaded\\r'), FloatProgress(value=1.0, max=1.0)))"
      ]
     },
     "metadata": {},
     "output_type": "display_data"
    },
    {
     "data": {
      "text/html": [
       "<style>\n",
       "    table.wandb td:nth-child(1) { padding: 0 10px; text-align: left ; width: auto;} td:nth-child(2) {text-align: left ; width: 100%}\n",
       "    .wandb-row { display: flex; flex-direction: row; flex-wrap: wrap; justify-content: flex-start; width: 100% }\n",
       "    .wandb-col { display: flex; flex-direction: column; flex-basis: 100%; flex: 1; padding: 10px; }\n",
       "    </style>\n",
       "<div class=\"wandb-row\"><div class=\"wandb-col\"><h3>Run history:</h3><br/><table class=\"wandb\"><tr><td>epoch</td><td>▁▁▁▁▂▂▂▂▃▃▃▃▃▃▃▃▄▄▄▄▅▅▅▅▆▆▆▆▆▆▆▆▇▇▇▇████</td></tr><tr><td>training accuracy</td><td>▁▁▂▂▂▃▄▅▂▃▄▅▂▄▅▆▂▃▅▆▂▄▅▆▂▃▄▆▂▄▅▆▂▄▆▇▂▄▅█</td></tr><tr><td>training loss</td><td>▂▄▆█▂▃▅▆▁▃▄▆▁▂▄▅▁▂▄▅▁▂▄▅▁▃▄▅▁▂▃▄▁▂▃▄▁▂▃▅</td></tr><tr><td>validation accuracy</td><td>▂▅▆▂▂▂▃▄▅▅██▃▆█▁▂▃▁▁▁▁▂▃▃▆▆▄▆▇</td></tr><tr><td>validation loss</td><td>▁▁▁▁▁▁▂▄▄▂▄▅▂▃▄▄▇█▃▅▆▄▇█▃▅▅▄▆▆</td></tr></table><br/></div><div class=\"wandb-col\"><h3>Run summary:</h3><br/><table class=\"wandb\"><tr><td>epoch</td><td>9</td></tr><tr><td>training accuracy</td><td>0.42222</td></tr><tr><td>training loss</td><td>2.38804</td></tr><tr><td>validation accuracy</td><td>0.10204</td></tr><tr><td>validation loss</td><td>779.59723</td></tr></table><br/></div></div>"
      ],
      "text/plain": [
       "<IPython.core.display.HTML object>"
      ]
     },
     "metadata": {},
     "output_type": "display_data"
    },
    {
     "data": {
      "text/html": [
       " View run <strong style=\"color:#cdcd00\">dashing-sweep-4</strong> at: <a href='https://wandb.ai/gyanko/assignment3-sweeps/runs/k91376v3' target=\"_blank\">https://wandb.ai/gyanko/assignment3-sweeps/runs/k91376v3</a><br/> View project at: <a href='https://wandb.ai/gyanko/assignment3-sweeps' target=\"_blank\">https://wandb.ai/gyanko/assignment3-sweeps</a><br/>Synced 4 W&B file(s), 0 media file(s), 0 artifact file(s) and 0 other file(s)"
      ],
      "text/plain": [
       "<IPython.core.display.HTML object>"
      ]
     },
     "metadata": {},
     "output_type": "display_data"
    },
    {
     "data": {
      "text/html": [
       "Find logs at: <code>./wandb/run-20240409_173143-k91376v3/logs</code>"
      ],
      "text/plain": [
       "<IPython.core.display.HTML object>"
      ]
     },
     "metadata": {},
     "output_type": "display_data"
    },
    {
     "name": "stderr",
     "output_type": "stream",
     "text": [
      "\u001b[34m\u001b[1mwandb\u001b[0m: Agent Starting Run: 3e6w10au with config:\n",
      "\u001b[34m\u001b[1mwandb\u001b[0m: \tbatch_size: 88\n",
      "\u001b[34m\u001b[1mwandb\u001b[0m: \tdropout: 0.4\n",
      "\u001b[34m\u001b[1mwandb\u001b[0m: \tepochs: 10\n",
      "\u001b[34m\u001b[1mwandb\u001b[0m: \tfc_layer1_size: 512\n",
      "\u001b[34m\u001b[1mwandb\u001b[0m: \tlearning_rate: 0.0039083359105131395\n",
      "\u001b[34m\u001b[1mwandb\u001b[0m: \toptimizer: sgd\n"
     ]
    },
    {
     "data": {
      "text/html": [
       "Tracking run with wandb version 0.16.6"
      ],
      "text/plain": [
       "<IPython.core.display.HTML object>"
      ]
     },
     "metadata": {},
     "output_type": "display_data"
    },
    {
     "data": {
      "text/html": [
       "Run data is saved locally in <code>/content/wandb/run-20240409_174217-3e6w10au</code>"
      ],
      "text/plain": [
       "<IPython.core.display.HTML object>"
      ]
     },
     "metadata": {},
     "output_type": "display_data"
    },
    {
     "data": {
      "text/html": [
       "Syncing run <strong><a href='https://wandb.ai/gyanko/assignment3-sweeps/runs/3e6w10au' target=\"_blank\">proud-sweep-5</a></strong> to <a href='https://wandb.ai/gyanko/assignment3-sweeps' target=\"_blank\">Weights & Biases</a> (<a href='https://wandb.me/run' target=\"_blank\">docs</a>)<br/>Sweep page: <a href='https://wandb.ai/gyanko/assignment3-sweeps/sweeps/mt89zwv6' target=\"_blank\">https://wandb.ai/gyanko/assignment3-sweeps/sweeps/mt89zwv6</a>"
      ],
      "text/plain": [
       "<IPython.core.display.HTML object>"
      ]
     },
     "metadata": {},
     "output_type": "display_data"
    },
    {
     "data": {
      "text/html": [
       " View project at <a href='https://wandb.ai/gyanko/assignment3-sweeps' target=\"_blank\">https://wandb.ai/gyanko/assignment3-sweeps</a>"
      ],
      "text/plain": [
       "<IPython.core.display.HTML object>"
      ]
     },
     "metadata": {},
     "output_type": "display_data"
    },
    {
     "data": {
      "text/html": [
       " View sweep at <a href='https://wandb.ai/gyanko/assignment3-sweeps/sweeps/mt89zwv6' target=\"_blank\">https://wandb.ai/gyanko/assignment3-sweeps/sweeps/mt89zwv6</a>"
      ],
      "text/plain": [
       "<IPython.core.display.HTML object>"
      ]
     },
     "metadata": {},
     "output_type": "display_data"
    },
    {
     "data": {
      "text/html": [
       " View run at <a href='https://wandb.ai/gyanko/assignment3-sweeps/runs/3e6w10au' target=\"_blank\">https://wandb.ai/gyanko/assignment3-sweeps/runs/3e6w10au</a>"
      ],
      "text/plain": [
       "<IPython.core.display.HTML object>"
      ]
     },
     "metadata": {},
     "output_type": "display_data"
    },
    {
     "name": "stderr",
     "output_type": "stream",
     "text": [
      "\u001b[34m\u001b[1mwandb\u001b[0m: \u001b[32m\u001b[41mERROR\u001b[0m Error while calling W&B API: context deadline exceeded (<Response [500]>)\n"
     ]
    },
    {
     "data": {
      "application/vnd.jupyter.widget-view+json": {
       "model_id": "4c85fcf0fbc64dd9adabd26a91bedd5e",
       "version_major": 2,
       "version_minor": 0
      },
      "text/plain": [
       "VBox(children=(Label(value='0.001 MB of 0.001 MB uploaded\\r'), FloatProgress(value=1.0, max=1.0)))"
      ]
     },
     "metadata": {},
     "output_type": "display_data"
    },
    {
     "data": {
      "text/html": [
       "<style>\n",
       "    table.wandb td:nth-child(1) { padding: 0 10px; text-align: left ; width: auto;} td:nth-child(2) {text-align: left ; width: 100%}\n",
       "    .wandb-row { display: flex; flex-direction: row; flex-wrap: wrap; justify-content: flex-start; width: 100% }\n",
       "    .wandb-col { display: flex; flex-direction: column; flex-basis: 100%; flex: 1; padding: 10px; }\n",
       "    </style>\n",
       "<div class=\"wandb-row\"><div class=\"wandb-col\"><h3>Run history:</h3><br/><table class=\"wandb\"><tr><td>epoch</td><td>▁▁▁▁▂▂▂▂▃▃▃▃▃▃▃▃▄▄▄▄▅▅▅▅▆▆▆▆▆▆▆▆▇▇▇▇████</td></tr><tr><td>training accuracy</td><td>▁▁▁▁▁▁▁▂▂▂▃▅▂▃▄▅▂▃▄▆▂▃▄▆▂▃▅▆▂▄▅▇▂▄▆▇▂▄▆█</td></tr><tr><td>training loss</td><td>▁▃▅█▁▃▅█▁▃▅█▁▄▅▇▁▄▅▇▁▃▅▇▁▃▅▆▁▃▅▆▁▃▅▆▁▃▅▆</td></tr><tr><td>validation accuracy</td><td>▁▁▁▂▆▆▃▆▇▄▆▇▃▇▇▃▆▇▃▆▇▃▆▇▄▇█▄▇█</td></tr><tr><td>validation loss</td><td>▂▇█▂▆█▂▆▇▂▆▇▂▅▇▂▅▆▁▅▆▁▅▆▁▄▅▁▄▅</td></tr></table><br/></div><div class=\"wandb-col\"><h3>Run summary:</h3><br/><table class=\"wandb\"><tr><td>epoch</td><td>9</td></tr><tr><td>training accuracy</td><td>0.28889</td></tr><tr><td>training loss</td><td>3.14106</td></tr><tr><td>validation accuracy</td><td>0.27891</td></tr><tr><td>validation loss</td><td>3.41853</td></tr></table><br/></div></div>"
      ],
      "text/plain": [
       "<IPython.core.display.HTML object>"
      ]
     },
     "metadata": {},
     "output_type": "display_data"
    },
    {
     "data": {
      "text/html": [
       " View run <strong style=\"color:#cdcd00\">proud-sweep-5</strong> at: <a href='https://wandb.ai/gyanko/assignment3-sweeps/runs/3e6w10au' target=\"_blank\">https://wandb.ai/gyanko/assignment3-sweeps/runs/3e6w10au</a><br/> View project at: <a href='https://wandb.ai/gyanko/assignment3-sweeps' target=\"_blank\">https://wandb.ai/gyanko/assignment3-sweeps</a><br/>Synced 5 W&B file(s), 0 media file(s), 0 artifact file(s) and 0 other file(s)"
      ],
      "text/plain": [
       "<IPython.core.display.HTML object>"
      ]
     },
     "metadata": {},
     "output_type": "display_data"
    },
    {
     "data": {
      "text/html": [
       "Find logs at: <code>./wandb/run-20240409_174217-3e6w10au/logs</code>"
      ],
      "text/plain": [
       "<IPython.core.display.HTML object>"
      ]
     },
     "metadata": {},
     "output_type": "display_data"
    },
    {
     "name": "stderr",
     "output_type": "stream",
     "text": [
      "\u001b[34m\u001b[1mwandb\u001b[0m: Agent Starting Run: 10rtxj31 with config:\n",
      "\u001b[34m\u001b[1mwandb\u001b[0m: \tbatch_size: 56\n",
      "\u001b[34m\u001b[1mwandb\u001b[0m: \tdropout: 0.5\n",
      "\u001b[34m\u001b[1mwandb\u001b[0m: \tepochs: 10\n",
      "\u001b[34m\u001b[1mwandb\u001b[0m: \tfc_layer1_size: 512\n",
      "\u001b[34m\u001b[1mwandb\u001b[0m: \tlearning_rate: 0.0005767980519085507\n",
      "\u001b[34m\u001b[1mwandb\u001b[0m: \toptimizer: adam\n"
     ]
    },
    {
     "data": {
      "text/html": [
       "Tracking run with wandb version 0.16.6"
      ],
      "text/plain": [
       "<IPython.core.display.HTML object>"
      ]
     },
     "metadata": {},
     "output_type": "display_data"
    },
    {
     "data": {
      "text/html": [
       "Run data is saved locally in <code>/content/wandb/run-20240409_175303-10rtxj31</code>"
      ],
      "text/plain": [
       "<IPython.core.display.HTML object>"
      ]
     },
     "metadata": {},
     "output_type": "display_data"
    },
    {
     "data": {
      "text/html": [
       "Syncing run <strong><a href='https://wandb.ai/gyanko/assignment3-sweeps/runs/10rtxj31' target=\"_blank\">crimson-sweep-6</a></strong> to <a href='https://wandb.ai/gyanko/assignment3-sweeps' target=\"_blank\">Weights & Biases</a> (<a href='https://wandb.me/run' target=\"_blank\">docs</a>)<br/>Sweep page: <a href='https://wandb.ai/gyanko/assignment3-sweeps/sweeps/mt89zwv6' target=\"_blank\">https://wandb.ai/gyanko/assignment3-sweeps/sweeps/mt89zwv6</a>"
      ],
      "text/plain": [
       "<IPython.core.display.HTML object>"
      ]
     },
     "metadata": {},
     "output_type": "display_data"
    },
    {
     "data": {
      "text/html": [
       " View project at <a href='https://wandb.ai/gyanko/assignment3-sweeps' target=\"_blank\">https://wandb.ai/gyanko/assignment3-sweeps</a>"
      ],
      "text/plain": [
       "<IPython.core.display.HTML object>"
      ]
     },
     "metadata": {},
     "output_type": "display_data"
    },
    {
     "data": {
      "text/html": [
       " View sweep at <a href='https://wandb.ai/gyanko/assignment3-sweeps/sweeps/mt89zwv6' target=\"_blank\">https://wandb.ai/gyanko/assignment3-sweeps/sweeps/mt89zwv6</a>"
      ],
      "text/plain": [
       "<IPython.core.display.HTML object>"
      ]
     },
     "metadata": {},
     "output_type": "display_data"
    },
    {
     "data": {
      "text/html": [
       " View run at <a href='https://wandb.ai/gyanko/assignment3-sweeps/runs/10rtxj31' target=\"_blank\">https://wandb.ai/gyanko/assignment3-sweeps/runs/10rtxj31</a>"
      ],
      "text/plain": [
       "<IPython.core.display.HTML object>"
      ]
     },
     "metadata": {},
     "output_type": "display_data"
    },
    {
     "data": {
      "application/vnd.jupyter.widget-view+json": {
       "model_id": "18dac533bd29402993aa0cfc377726c0",
       "version_major": 2,
       "version_minor": 0
      },
      "text/plain": [
       "VBox(children=(Label(value='0.011 MB of 0.011 MB uploaded\\r'), FloatProgress(value=1.0, max=1.0)))"
      ]
     },
     "metadata": {},
     "output_type": "display_data"
    },
    {
     "data": {
      "text/html": [
       "<style>\n",
       "    table.wandb td:nth-child(1) { padding: 0 10px; text-align: left ; width: auto;} td:nth-child(2) {text-align: left ; width: 100%}\n",
       "    .wandb-row { display: flex; flex-direction: row; flex-wrap: wrap; justify-content: flex-start; width: 100% }\n",
       "    .wandb-col { display: flex; flex-direction: column; flex-basis: 100%; flex: 1; padding: 10px; }\n",
       "    </style>\n",
       "<div class=\"wandb-row\"><div class=\"wandb-col\"><h3>Run history:</h3><br/><table class=\"wandb\"><tr><td>epoch</td><td>▁▁▁▁▂▂▂▂▃▃▃▃▃▃▃▃▄▄▄▄▅▅▅▅▆▆▆▆▆▆▆▆▇▇▇▇████</td></tr><tr><td>training accuracy</td><td>▁▁▂▂▁▂▂▃▁▂▃▄▁▃▄▅▂▃▅▆▂▃▅▇▂▃▅▇▂▄▅▇▂▄▆▇▂▄▆█</td></tr><tr><td>training loss</td><td>▂▃▆█▁▃▅▆▁▃▄▅▁▂▃▄▁▂▃▄▁▂▂▃▁▂▂▂▁▁▂▂▁▁▂▂▁▁▂▂</td></tr><tr><td>validation accuracy</td><td>▁▃▄▁▄▄▃▅▆▃▆▇▃▇█▃▆▇▃▇▇▃▇█▃▇█▃▆▇</td></tr><tr><td>validation loss</td><td>▃▇█▃▆▆▂▅▆▁▄▅▁▃▄▁▃▄▁▄▄▁▃▄▁▃▃▁▃▃</td></tr></table><br/></div><div class=\"wandb-col\"><h3>Run summary:</h3><br/><table class=\"wandb\"><tr><td>epoch</td><td>9</td></tr><tr><td>training accuracy</td><td>0.87179</td></tr><tr><td>training loss</td><td>0.51729</td></tr><tr><td>validation accuracy</td><td>0.56463</td></tr><tr><td>validation loss</td><td>1.8401</td></tr></table><br/></div></div>"
      ],
      "text/plain": [
       "<IPython.core.display.HTML object>"
      ]
     },
     "metadata": {},
     "output_type": "display_data"
    },
    {
     "data": {
      "text/html": [
       " View run <strong style=\"color:#cdcd00\">crimson-sweep-6</strong> at: <a href='https://wandb.ai/gyanko/assignment3-sweeps/runs/10rtxj31' target=\"_blank\">https://wandb.ai/gyanko/assignment3-sweeps/runs/10rtxj31</a><br/> View project at: <a href='https://wandb.ai/gyanko/assignment3-sweeps' target=\"_blank\">https://wandb.ai/gyanko/assignment3-sweeps</a><br/>Synced 4 W&B file(s), 0 media file(s), 0 artifact file(s) and 0 other file(s)"
      ],
      "text/plain": [
       "<IPython.core.display.HTML object>"
      ]
     },
     "metadata": {},
     "output_type": "display_data"
    },
    {
     "data": {
      "text/html": [
       "Find logs at: <code>./wandb/run-20240409_175303-10rtxj31/logs</code>"
      ],
      "text/plain": [
       "<IPython.core.display.HTML object>"
      ]
     },
     "metadata": {},
     "output_type": "display_data"
    },
    {
     "name": "stderr",
     "output_type": "stream",
     "text": [
      "\u001b[34m\u001b[1mwandb\u001b[0m: Agent Starting Run: qqc0nhhl with config:\n",
      "\u001b[34m\u001b[1mwandb\u001b[0m: \tbatch_size: 104\n",
      "\u001b[34m\u001b[1mwandb\u001b[0m: \tdropout: 0.4\n",
      "\u001b[34m\u001b[1mwandb\u001b[0m: \tepochs: 10\n",
      "\u001b[34m\u001b[1mwandb\u001b[0m: \tfc_layer1_size: 128\n",
      "\u001b[34m\u001b[1mwandb\u001b[0m: \tlearning_rate: 0.002381223297472227\n",
      "\u001b[34m\u001b[1mwandb\u001b[0m: \toptimizer: sgd\n"
     ]
    },
    {
     "data": {
      "text/html": [
       "Tracking run with wandb version 0.16.6"
      ],
      "text/plain": [
       "<IPython.core.display.HTML object>"
      ]
     },
     "metadata": {},
     "output_type": "display_data"
    },
    {
     "data": {
      "text/html": [
       "Run data is saved locally in <code>/content/wandb/run-20240409_180313-qqc0nhhl</code>"
      ],
      "text/plain": [
       "<IPython.core.display.HTML object>"
      ]
     },
     "metadata": {},
     "output_type": "display_data"
    },
    {
     "data": {
      "text/html": [
       "Syncing run <strong><a href='https://wandb.ai/gyanko/assignment3-sweeps/runs/qqc0nhhl' target=\"_blank\">fine-sweep-7</a></strong> to <a href='https://wandb.ai/gyanko/assignment3-sweeps' target=\"_blank\">Weights & Biases</a> (<a href='https://wandb.me/run' target=\"_blank\">docs</a>)<br/>Sweep page: <a href='https://wandb.ai/gyanko/assignment3-sweeps/sweeps/mt89zwv6' target=\"_blank\">https://wandb.ai/gyanko/assignment3-sweeps/sweeps/mt89zwv6</a>"
      ],
      "text/plain": [
       "<IPython.core.display.HTML object>"
      ]
     },
     "metadata": {},
     "output_type": "display_data"
    },
    {
     "data": {
      "text/html": [
       " View project at <a href='https://wandb.ai/gyanko/assignment3-sweeps' target=\"_blank\">https://wandb.ai/gyanko/assignment3-sweeps</a>"
      ],
      "text/plain": [
       "<IPython.core.display.HTML object>"
      ]
     },
     "metadata": {},
     "output_type": "display_data"
    },
    {
     "data": {
      "text/html": [
       " View sweep at <a href='https://wandb.ai/gyanko/assignment3-sweeps/sweeps/mt89zwv6' target=\"_blank\">https://wandb.ai/gyanko/assignment3-sweeps/sweeps/mt89zwv6</a>"
      ],
      "text/plain": [
       "<IPython.core.display.HTML object>"
      ]
     },
     "metadata": {},
     "output_type": "display_data"
    },
    {
     "data": {
      "text/html": [
       " View run at <a href='https://wandb.ai/gyanko/assignment3-sweeps/runs/qqc0nhhl' target=\"_blank\">https://wandb.ai/gyanko/assignment3-sweeps/runs/qqc0nhhl</a>"
      ],
      "text/plain": [
       "<IPython.core.display.HTML object>"
      ]
     },
     "metadata": {},
     "output_type": "display_data"
    },
    {
     "data": {
      "application/vnd.jupyter.widget-view+json": {
       "model_id": "ebed68ffe16744d0b84d1cd1d4fb7b4a",
       "version_major": 2,
       "version_minor": 0
      },
      "text/plain": [
       "VBox(children=(Label(value='0.011 MB of 0.011 MB uploaded\\r'), FloatProgress(value=1.0, max=1.0)))"
      ]
     },
     "metadata": {},
     "output_type": "display_data"
    },
    {
     "data": {
      "text/html": [
       "<style>\n",
       "    table.wandb td:nth-child(1) { padding: 0 10px; text-align: left ; width: auto;} td:nth-child(2) {text-align: left ; width: 100%}\n",
       "    .wandb-row { display: flex; flex-direction: row; flex-wrap: wrap; justify-content: flex-start; width: 100% }\n",
       "    .wandb-col { display: flex; flex-direction: column; flex-basis: 100%; flex: 1; padding: 10px; }\n",
       "    </style>\n",
       "<div class=\"wandb-row\"><div class=\"wandb-col\"><h3>Run history:</h3><br/><table class=\"wandb\"><tr><td>epoch</td><td>▁▁▁▁▂▂▂▂▃▃▃▃▃▃▃▃▄▄▄▄▅▅▅▅▆▆▆▆▆▆▆▆▇▇▇▇████</td></tr><tr><td>training accuracy</td><td>▁▁▁▂▁▁▁▂▁▁▂▂▁▂▃▄▂▂▄▅▂▃▄▅▂▃▅▇▂▃▆▇▂▄▆▇▂▄▆█</td></tr><tr><td>training loss</td><td>▁▃▆█▁▃▆█▁▃▆█▁▃▆█▁▃▆█▁▃▆█▁▃▆▇▁▃▆▇▁▃▆▇▁▂▅█</td></tr><tr><td>validation accuracy</td><td>▁▁▁▁▃▃▂▃▅▃▆▆▃▅▆▄▇▇▄▇█▄▆█▃▆▇▃▇▇</td></tr><tr><td>validation loss</td><td>▂▇█▂▆█▂▆█▂▆█▁▆█▁▆▇▁▆▇▁▅▇▁▅▆▁▅▆</td></tr></table><br/></div><div class=\"wandb-col\"><h3>Run summary:</h3><br/><table class=\"wandb\"><tr><td>epoch</td><td>9</td></tr><tr><td>training accuracy</td><td>0.23932</td></tr><tr><td>training loss</td><td>3.96451</td></tr><tr><td>validation accuracy</td><td>0.21088</td></tr><tr><td>validation loss</td><td>3.85371</td></tr></table><br/></div></div>"
      ],
      "text/plain": [
       "<IPython.core.display.HTML object>"
      ]
     },
     "metadata": {},
     "output_type": "display_data"
    },
    {
     "data": {
      "text/html": [
       " View run <strong style=\"color:#cdcd00\">fine-sweep-7</strong> at: <a href='https://wandb.ai/gyanko/assignment3-sweeps/runs/qqc0nhhl' target=\"_blank\">https://wandb.ai/gyanko/assignment3-sweeps/runs/qqc0nhhl</a><br/> View project at: <a href='https://wandb.ai/gyanko/assignment3-sweeps' target=\"_blank\">https://wandb.ai/gyanko/assignment3-sweeps</a><br/>Synced 4 W&B file(s), 0 media file(s), 0 artifact file(s) and 0 other file(s)"
      ],
      "text/plain": [
       "<IPython.core.display.HTML object>"
      ]
     },
     "metadata": {},
     "output_type": "display_data"
    },
    {
     "data": {
      "text/html": [
       "Find logs at: <code>./wandb/run-20240409_180313-qqc0nhhl/logs</code>"
      ],
      "text/plain": [
       "<IPython.core.display.HTML object>"
      ]
     },
     "metadata": {},
     "output_type": "display_data"
    },
    {
     "name": "stderr",
     "output_type": "stream",
     "text": [
      "\u001b[34m\u001b[1mwandb\u001b[0m: Agent Starting Run: w8d3axw0 with config:\n",
      "\u001b[34m\u001b[1mwandb\u001b[0m: \tbatch_size: 112\n",
      "\u001b[34m\u001b[1mwandb\u001b[0m: \tdropout: 0.5\n",
      "\u001b[34m\u001b[1mwandb\u001b[0m: \tepochs: 10\n",
      "\u001b[34m\u001b[1mwandb\u001b[0m: \tfc_layer1_size: 256\n",
      "\u001b[34m\u001b[1mwandb\u001b[0m: \tlearning_rate: 0.003939267152174279\n",
      "\u001b[34m\u001b[1mwandb\u001b[0m: \toptimizer: sgd\n"
     ]
    },
    {
     "data": {
      "text/html": [
       "Tracking run with wandb version 0.16.6"
      ],
      "text/plain": [
       "<IPython.core.display.HTML object>"
      ]
     },
     "metadata": {},
     "output_type": "display_data"
    },
    {
     "data": {
      "text/html": [
       "Run data is saved locally in <code>/content/wandb/run-20240409_181405-w8d3axw0</code>"
      ],
      "text/plain": [
       "<IPython.core.display.HTML object>"
      ]
     },
     "metadata": {},
     "output_type": "display_data"
    },
    {
     "data": {
      "text/html": [
       "Syncing run <strong><a href='https://wandb.ai/gyanko/assignment3-sweeps/runs/w8d3axw0' target=\"_blank\">treasured-sweep-8</a></strong> to <a href='https://wandb.ai/gyanko/assignment3-sweeps' target=\"_blank\">Weights & Biases</a> (<a href='https://wandb.me/run' target=\"_blank\">docs</a>)<br/>Sweep page: <a href='https://wandb.ai/gyanko/assignment3-sweeps/sweeps/mt89zwv6' target=\"_blank\">https://wandb.ai/gyanko/assignment3-sweeps/sweeps/mt89zwv6</a>"
      ],
      "text/plain": [
       "<IPython.core.display.HTML object>"
      ]
     },
     "metadata": {},
     "output_type": "display_data"
    },
    {
     "data": {
      "text/html": [
       " View project at <a href='https://wandb.ai/gyanko/assignment3-sweeps' target=\"_blank\">https://wandb.ai/gyanko/assignment3-sweeps</a>"
      ],
      "text/plain": [
       "<IPython.core.display.HTML object>"
      ]
     },
     "metadata": {},
     "output_type": "display_data"
    },
    {
     "data": {
      "text/html": [
       " View sweep at <a href='https://wandb.ai/gyanko/assignment3-sweeps/sweeps/mt89zwv6' target=\"_blank\">https://wandb.ai/gyanko/assignment3-sweeps/sweeps/mt89zwv6</a>"
      ],
      "text/plain": [
       "<IPython.core.display.HTML object>"
      ]
     },
     "metadata": {},
     "output_type": "display_data"
    },
    {
     "data": {
      "text/html": [
       " View run at <a href='https://wandb.ai/gyanko/assignment3-sweeps/runs/w8d3axw0' target=\"_blank\">https://wandb.ai/gyanko/assignment3-sweeps/runs/w8d3axw0</a>"
      ],
      "text/plain": [
       "<IPython.core.display.HTML object>"
      ]
     },
     "metadata": {},
     "output_type": "display_data"
    },
    {
     "data": {
      "application/vnd.jupyter.widget-view+json": {
       "model_id": "8c4afa413b8d4426a1e0fc8a6f8d81e3",
       "version_major": 2,
       "version_minor": 0
      },
      "text/plain": [
       "VBox(children=(Label(value='0.011 MB of 0.011 MB uploaded\\r'), FloatProgress(value=1.0, max=1.0)))"
      ]
     },
     "metadata": {},
     "output_type": "display_data"
    },
    {
     "data": {
      "text/html": [
       "<style>\n",
       "    table.wandb td:nth-child(1) { padding: 0 10px; text-align: left ; width: auto;} td:nth-child(2) {text-align: left ; width: 100%}\n",
       "    .wandb-row { display: flex; flex-direction: row; flex-wrap: wrap; justify-content: flex-start; width: 100% }\n",
       "    .wandb-col { display: flex; flex-direction: column; flex-basis: 100%; flex: 1; padding: 10px; }\n",
       "    </style>\n",
       "<div class=\"wandb-row\"><div class=\"wandb-col\"><h3>Run history:</h3><br/><table class=\"wandb\"><tr><td>epoch</td><td>▁▁▁▁▂▂▂▂▃▃▃▃▃▃▃▃▄▄▄▄▅▅▅▅▆▆▆▆▆▆▆▆▇▇▇▇████</td></tr><tr><td>training accuracy</td><td>▁▁▁▁▁▁▁▂▁▁▂▂▂▂▄▅▂▃▆▇▂▄▆▇▃▄▆█▂▄▆█▂▄▆▇▂▄▆█</td></tr><tr><td>training loss</td><td>▁▃▆█▁▃▆█▁▃▆█▁▃▆█▁▃▆▇▁▃▆▇▁▃▅▇▁▂▅▆▁▂▅▆▁▂▅▆</td></tr><tr><td>validation accuracy</td><td>▁▁▁▂▄▄▃▆▆▄▆▇▃▆▇▃▆▇▅▇▇▄▇▇▃▇█▄▇█</td></tr><tr><td>validation loss</td><td>▂▇█▂▇█▂▆█▂▆▇▂▆▇▂▆▇▁▅▆▁▅▆▁▄▆▁▄▅</td></tr></table><br/></div><div class=\"wandb-col\"><h3>Run summary:</h3><br/><table class=\"wandb\"><tr><td>epoch</td><td>9</td></tr><tr><td>training accuracy</td><td>0.23932</td></tr><tr><td>training loss</td><td>3.40638</td></tr><tr><td>validation accuracy</td><td>0.2449</td></tr><tr><td>validation loss</td><td>3.51257</td></tr></table><br/></div></div>"
      ],
      "text/plain": [
       "<IPython.core.display.HTML object>"
      ]
     },
     "metadata": {},
     "output_type": "display_data"
    },
    {
     "data": {
      "text/html": [
       " View run <strong style=\"color:#cdcd00\">treasured-sweep-8</strong> at: <a href='https://wandb.ai/gyanko/assignment3-sweeps/runs/w8d3axw0' target=\"_blank\">https://wandb.ai/gyanko/assignment3-sweeps/runs/w8d3axw0</a><br/> View project at: <a href='https://wandb.ai/gyanko/assignment3-sweeps' target=\"_blank\">https://wandb.ai/gyanko/assignment3-sweeps</a><br/>Synced 4 W&B file(s), 0 media file(s), 0 artifact file(s) and 0 other file(s)"
      ],
      "text/plain": [
       "<IPython.core.display.HTML object>"
      ]
     },
     "metadata": {},
     "output_type": "display_data"
    },
    {
     "data": {
      "text/html": [
       "Find logs at: <code>./wandb/run-20240409_181405-w8d3axw0/logs</code>"
      ],
      "text/plain": [
       "<IPython.core.display.HTML object>"
      ]
     },
     "metadata": {},
     "output_type": "display_data"
    },
    {
     "name": "stderr",
     "output_type": "stream",
     "text": [
      "\u001b[34m\u001b[1mwandb\u001b[0m: Agent Starting Run: aaw5x9g7 with config:\n",
      "\u001b[34m\u001b[1mwandb\u001b[0m: \tbatch_size: 48\n",
      "\u001b[34m\u001b[1mwandb\u001b[0m: \tdropout: 0.3\n",
      "\u001b[34m\u001b[1mwandb\u001b[0m: \tepochs: 10\n",
      "\u001b[34m\u001b[1mwandb\u001b[0m: \tfc_layer1_size: 256\n",
      "\u001b[34m\u001b[1mwandb\u001b[0m: \tlearning_rate: 0.0030742825726076395\n",
      "\u001b[34m\u001b[1mwandb\u001b[0m: \toptimizer: sgd\n"
     ]
    },
    {
     "data": {
      "text/html": [
       "Tracking run with wandb version 0.16.6"
      ],
      "text/plain": [
       "<IPython.core.display.HTML object>"
      ]
     },
     "metadata": {},
     "output_type": "display_data"
    },
    {
     "data": {
      "text/html": [
       "Run data is saved locally in <code>/content/wandb/run-20240409_182505-aaw5x9g7</code>"
      ],
      "text/plain": [
       "<IPython.core.display.HTML object>"
      ]
     },
     "metadata": {},
     "output_type": "display_data"
    },
    {
     "data": {
      "text/html": [
       "Syncing run <strong><a href='https://wandb.ai/gyanko/assignment3-sweeps/runs/aaw5x9g7' target=\"_blank\">bumbling-sweep-9</a></strong> to <a href='https://wandb.ai/gyanko/assignment3-sweeps' target=\"_blank\">Weights & Biases</a> (<a href='https://wandb.me/run' target=\"_blank\">docs</a>)<br/>Sweep page: <a href='https://wandb.ai/gyanko/assignment3-sweeps/sweeps/mt89zwv6' target=\"_blank\">https://wandb.ai/gyanko/assignment3-sweeps/sweeps/mt89zwv6</a>"
      ],
      "text/plain": [
       "<IPython.core.display.HTML object>"
      ]
     },
     "metadata": {},
     "output_type": "display_data"
    },
    {
     "data": {
      "text/html": [
       " View project at <a href='https://wandb.ai/gyanko/assignment3-sweeps' target=\"_blank\">https://wandb.ai/gyanko/assignment3-sweeps</a>"
      ],
      "text/plain": [
       "<IPython.core.display.HTML object>"
      ]
     },
     "metadata": {},
     "output_type": "display_data"
    },
    {
     "data": {
      "text/html": [
       " View sweep at <a href='https://wandb.ai/gyanko/assignment3-sweeps/sweeps/mt89zwv6' target=\"_blank\">https://wandb.ai/gyanko/assignment3-sweeps/sweeps/mt89zwv6</a>"
      ],
      "text/plain": [
       "<IPython.core.display.HTML object>"
      ]
     },
     "metadata": {},
     "output_type": "display_data"
    },
    {
     "data": {
      "text/html": [
       " View run at <a href='https://wandb.ai/gyanko/assignment3-sweeps/runs/aaw5x9g7' target=\"_blank\">https://wandb.ai/gyanko/assignment3-sweeps/runs/aaw5x9g7</a>"
      ],
      "text/plain": [
       "<IPython.core.display.HTML object>"
      ]
     },
     "metadata": {},
     "output_type": "display_data"
    },
    {
     "data": {
      "application/vnd.jupyter.widget-view+json": {
       "model_id": "4a7a3ac3933f4806a9e9e53d5896712d",
       "version_major": 2,
       "version_minor": 0
      },
      "text/plain": [
       "VBox(children=(Label(value='0.011 MB of 0.011 MB uploaded\\r'), FloatProgress(value=1.0, max=1.0)))"
      ]
     },
     "metadata": {},
     "output_type": "display_data"
    },
    {
     "data": {
      "text/html": [
       "<style>\n",
       "    table.wandb td:nth-child(1) { padding: 0 10px; text-align: left ; width: auto;} td:nth-child(2) {text-align: left ; width: 100%}\n",
       "    .wandb-row { display: flex; flex-direction: row; flex-wrap: wrap; justify-content: flex-start; width: 100% }\n",
       "    .wandb-col { display: flex; flex-direction: column; flex-basis: 100%; flex: 1; padding: 10px; }\n",
       "    </style>\n",
       "<div class=\"wandb-row\"><div class=\"wandb-col\"><h3>Run history:</h3><br/><table class=\"wandb\"><tr><td>epoch</td><td>▁▁▁▁▂▂▂▂▃▃▃▃▃▃▃▃▄▄▄▄▅▅▅▅▆▆▆▆▆▆▆▆▇▇▇▇████</td></tr><tr><td>training accuracy</td><td>▁▁▁▁▁▂▂▃▂▂▄▆▁▃▄▅▂▃▅▆▁▃▅▆▂▃▄▇▁▃▆▇▂▄▅█▃▄▆█</td></tr><tr><td>training loss</td><td>▂▃▆▇▁▄▅█▂▃▆█▁▄▅▇▂▃▅▇▁▃▅▆▂▃▄▆▁▃▅▅▁▃▄▆▂▃▄▆</td></tr><tr><td>validation accuracy</td><td>▁▁▂▃▆▆▃▆▆▃▅▆▄▆▆▃▆▇▄▇▇▄▇█▄▇█▃▇█</td></tr><tr><td>validation loss</td><td>▂▇█▂▆█▂▆▇▂▅▆▁▅▆▁▅▆▁▄▅▁▄▅▁▄▅▁▄▅</td></tr></table><br/></div><div class=\"wandb-col\"><h3>Run summary:</h3><br/><table class=\"wandb\"><tr><td>epoch</td><td>9</td></tr><tr><td>training accuracy</td><td>0.34188</td></tr><tr><td>training loss</td><td>2.90894</td></tr><tr><td>validation accuracy</td><td>0.32653</td></tr><tr><td>validation loss</td><td>3.15263</td></tr></table><br/></div></div>"
      ],
      "text/plain": [
       "<IPython.core.display.HTML object>"
      ]
     },
     "metadata": {},
     "output_type": "display_data"
    },
    {
     "data": {
      "text/html": [
       " View run <strong style=\"color:#cdcd00\">bumbling-sweep-9</strong> at: <a href='https://wandb.ai/gyanko/assignment3-sweeps/runs/aaw5x9g7' target=\"_blank\">https://wandb.ai/gyanko/assignment3-sweeps/runs/aaw5x9g7</a><br/> View project at: <a href='https://wandb.ai/gyanko/assignment3-sweeps' target=\"_blank\">https://wandb.ai/gyanko/assignment3-sweeps</a><br/>Synced 4 W&B file(s), 0 media file(s), 0 artifact file(s) and 0 other file(s)"
      ],
      "text/plain": [
       "<IPython.core.display.HTML object>"
      ]
     },
     "metadata": {},
     "output_type": "display_data"
    },
    {
     "data": {
      "text/html": [
       "Find logs at: <code>./wandb/run-20240409_182505-aaw5x9g7/logs</code>"
      ],
      "text/plain": [
       "<IPython.core.display.HTML object>"
      ]
     },
     "metadata": {},
     "output_type": "display_data"
    },
    {
     "name": "stderr",
     "output_type": "stream",
     "text": [
      "\u001b[34m\u001b[1mwandb\u001b[0m: Agent Starting Run: fojz0i1i with config:\n",
      "\u001b[34m\u001b[1mwandb\u001b[0m: \tbatch_size: 40\n",
      "\u001b[34m\u001b[1mwandb\u001b[0m: \tdropout: 0.5\n",
      "\u001b[34m\u001b[1mwandb\u001b[0m: \tepochs: 10\n",
      "\u001b[34m\u001b[1mwandb\u001b[0m: \tfc_layer1_size: 256\n",
      "\u001b[34m\u001b[1mwandb\u001b[0m: \tlearning_rate: 0.0026131051262716304\n",
      "\u001b[34m\u001b[1mwandb\u001b[0m: \toptimizer: adam\n"
     ]
    },
    {
     "data": {
      "text/html": [
       "Tracking run with wandb version 0.16.6"
      ],
      "text/plain": [
       "<IPython.core.display.HTML object>"
      ]
     },
     "metadata": {},
     "output_type": "display_data"
    },
    {
     "data": {
      "text/html": [
       "Run data is saved locally in <code>/content/wandb/run-20240409_183519-fojz0i1i</code>"
      ],
      "text/plain": [
       "<IPython.core.display.HTML object>"
      ]
     },
     "metadata": {},
     "output_type": "display_data"
    },
    {
     "data": {
      "text/html": [
       "Syncing run <strong><a href='https://wandb.ai/gyanko/assignment3-sweeps/runs/fojz0i1i' target=\"_blank\">misty-sweep-10</a></strong> to <a href='https://wandb.ai/gyanko/assignment3-sweeps' target=\"_blank\">Weights & Biases</a> (<a href='https://wandb.me/run' target=\"_blank\">docs</a>)<br/>Sweep page: <a href='https://wandb.ai/gyanko/assignment3-sweeps/sweeps/mt89zwv6' target=\"_blank\">https://wandb.ai/gyanko/assignment3-sweeps/sweeps/mt89zwv6</a>"
      ],
      "text/plain": [
       "<IPython.core.display.HTML object>"
      ]
     },
     "metadata": {},
     "output_type": "display_data"
    },
    {
     "data": {
      "text/html": [
       " View project at <a href='https://wandb.ai/gyanko/assignment3-sweeps' target=\"_blank\">https://wandb.ai/gyanko/assignment3-sweeps</a>"
      ],
      "text/plain": [
       "<IPython.core.display.HTML object>"
      ]
     },
     "metadata": {},
     "output_type": "display_data"
    },
    {
     "data": {
      "text/html": [
       " View sweep at <a href='https://wandb.ai/gyanko/assignment3-sweeps/sweeps/mt89zwv6' target=\"_blank\">https://wandb.ai/gyanko/assignment3-sweeps/sweeps/mt89zwv6</a>"
      ],
      "text/plain": [
       "<IPython.core.display.HTML object>"
      ]
     },
     "metadata": {},
     "output_type": "display_data"
    },
    {
     "data": {
      "text/html": [
       " View run at <a href='https://wandb.ai/gyanko/assignment3-sweeps/runs/fojz0i1i' target=\"_blank\">https://wandb.ai/gyanko/assignment3-sweeps/runs/fojz0i1i</a>"
      ],
      "text/plain": [
       "<IPython.core.display.HTML object>"
      ]
     },
     "metadata": {},
     "output_type": "display_data"
    },
    {
     "data": {
      "application/vnd.jupyter.widget-view+json": {
       "model_id": "c50e205cf21747d69277383655f7feff",
       "version_major": 2,
       "version_minor": 0
      },
      "text/plain": [
       "VBox(children=(Label(value='0.011 MB of 0.011 MB uploaded\\r'), FloatProgress(value=1.0, max=1.0)))"
      ]
     },
     "metadata": {},
     "output_type": "display_data"
    },
    {
     "data": {
      "text/html": [
       "<style>\n",
       "    table.wandb td:nth-child(1) { padding: 0 10px; text-align: left ; width: auto;} td:nth-child(2) {text-align: left ; width: 100%}\n",
       "    .wandb-row { display: flex; flex-direction: row; flex-wrap: wrap; justify-content: flex-start; width: 100% }\n",
       "    .wandb-col { display: flex; flex-direction: column; flex-basis: 100%; flex: 1; padding: 10px; }\n",
       "    </style>\n",
       "<div class=\"wandb-row\"><div class=\"wandb-col\"><h3>Run history:</h3><br/><table class=\"wandb\"><tr><td>epoch</td><td>▁▁▁▁▂▂▂▂▃▃▃▃▃▃▃▃▄▄▄▄▅▅▅▅▆▆▆▆▆▆▆▆▇▇▇▇████</td></tr><tr><td>training accuracy</td><td>▁▁▂▃▁▂▃▄▁▂▃▄▁▂▄▅▂▃▄▆▁▃▄▆▂▄▅▇▂▄▅▆▂▄▅▇▂▄▆█</td></tr><tr><td>training loss</td><td>▂▃▆█▁▃▅▇▂▃▄▆▁▃▄▆▁▃▄▅▁▂▃▅▁▂▃▄▁▂▃▄▁▂▃▄▁▂▃▄</td></tr><tr><td>validation accuracy</td><td>▁▄▅▂▄▅▃▅▆▃▆▇▁▄▅▃▇█▄▇█▃▇█▄▇█▃▆▇</td></tr><tr><td>validation loss</td><td>▄▇█▁▃▃▂▄▄▁▂▂▁▂▂▁▂▂▁▃▃▁▂▂▁▂▂▁▂▂</td></tr></table><br/></div><div class=\"wandb-col\"><h3>Run summary:</h3><br/><table class=\"wandb\"><tr><td>epoch</td><td>9</td></tr><tr><td>training accuracy</td><td>0.67179</td></tr><tr><td>training loss</td><td>1.29735</td></tr><tr><td>validation accuracy</td><td>0.27211</td></tr><tr><td>validation loss</td><td>7.57072</td></tr></table><br/></div></div>"
      ],
      "text/plain": [
       "<IPython.core.display.HTML object>"
      ]
     },
     "metadata": {},
     "output_type": "display_data"
    },
    {
     "data": {
      "text/html": [
       " View run <strong style=\"color:#cdcd00\">misty-sweep-10</strong> at: <a href='https://wandb.ai/gyanko/assignment3-sweeps/runs/fojz0i1i' target=\"_blank\">https://wandb.ai/gyanko/assignment3-sweeps/runs/fojz0i1i</a><br/> View project at: <a href='https://wandb.ai/gyanko/assignment3-sweeps' target=\"_blank\">https://wandb.ai/gyanko/assignment3-sweeps</a><br/>Synced 4 W&B file(s), 0 media file(s), 0 artifact file(s) and 0 other file(s)"
      ],
      "text/plain": [
       "<IPython.core.display.HTML object>"
      ]
     },
     "metadata": {},
     "output_type": "display_data"
    },
    {
     "data": {
      "text/html": [
       "Find logs at: <code>./wandb/run-20240409_183519-fojz0i1i/logs</code>"
      ],
      "text/plain": [
       "<IPython.core.display.HTML object>"
      ]
     },
     "metadata": {},
     "output_type": "display_data"
    },
    {
     "name": "stderr",
     "output_type": "stream",
     "text": [
      "\u001b[34m\u001b[1mwandb\u001b[0m: Agent Starting Run: gcayraht with config:\n",
      "\u001b[34m\u001b[1mwandb\u001b[0m: \tbatch_size: 128\n",
      "\u001b[34m\u001b[1mwandb\u001b[0m: \tdropout: 0.5\n",
      "\u001b[34m\u001b[1mwandb\u001b[0m: \tepochs: 10\n",
      "\u001b[34m\u001b[1mwandb\u001b[0m: \tfc_layer1_size: 256\n",
      "\u001b[34m\u001b[1mwandb\u001b[0m: \tlearning_rate: 0.006979827506235534\n",
      "\u001b[34m\u001b[1mwandb\u001b[0m: \toptimizer: adam\n"
     ]
    },
    {
     "data": {
      "text/html": [
       "Tracking run with wandb version 0.16.6"
      ],
      "text/plain": [
       "<IPython.core.display.HTML object>"
      ]
     },
     "metadata": {},
     "output_type": "display_data"
    },
    {
     "data": {
      "text/html": [
       "Run data is saved locally in <code>/content/wandb/run-20240409_184523-gcayraht</code>"
      ],
      "text/plain": [
       "<IPython.core.display.HTML object>"
      ]
     },
     "metadata": {},
     "output_type": "display_data"
    },
    {
     "data": {
      "text/html": [
       "Syncing run <strong><a href='https://wandb.ai/gyanko/assignment3-sweeps/runs/gcayraht' target=\"_blank\">restful-sweep-11</a></strong> to <a href='https://wandb.ai/gyanko/assignment3-sweeps' target=\"_blank\">Weights & Biases</a> (<a href='https://wandb.me/run' target=\"_blank\">docs</a>)<br/>Sweep page: <a href='https://wandb.ai/gyanko/assignment3-sweeps/sweeps/mt89zwv6' target=\"_blank\">https://wandb.ai/gyanko/assignment3-sweeps/sweeps/mt89zwv6</a>"
      ],
      "text/plain": [
       "<IPython.core.display.HTML object>"
      ]
     },
     "metadata": {},
     "output_type": "display_data"
    },
    {
     "data": {
      "text/html": [
       " View project at <a href='https://wandb.ai/gyanko/assignment3-sweeps' target=\"_blank\">https://wandb.ai/gyanko/assignment3-sweeps</a>"
      ],
      "text/plain": [
       "<IPython.core.display.HTML object>"
      ]
     },
     "metadata": {},
     "output_type": "display_data"
    },
    {
     "data": {
      "text/html": [
       " View sweep at <a href='https://wandb.ai/gyanko/assignment3-sweeps/sweeps/mt89zwv6' target=\"_blank\">https://wandb.ai/gyanko/assignment3-sweeps/sweeps/mt89zwv6</a>"
      ],
      "text/plain": [
       "<IPython.core.display.HTML object>"
      ]
     },
     "metadata": {},
     "output_type": "display_data"
    },
    {
     "data": {
      "text/html": [
       " View run at <a href='https://wandb.ai/gyanko/assignment3-sweeps/runs/gcayraht' target=\"_blank\">https://wandb.ai/gyanko/assignment3-sweeps/runs/gcayraht</a>"
      ],
      "text/plain": [
       "<IPython.core.display.HTML object>"
      ]
     },
     "metadata": {},
     "output_type": "display_data"
    },
    {
     "data": {
      "application/vnd.jupyter.widget-view+json": {
       "model_id": "0be0fe4410ef4ef0be2bd0c65aadabad",
       "version_major": 2,
       "version_minor": 0
      },
      "text/plain": [
       "VBox(children=(Label(value='0.011 MB of 0.011 MB uploaded\\r'), FloatProgress(value=1.0, max=1.0)))"
      ]
     },
     "metadata": {},
     "output_type": "display_data"
    },
    {
     "data": {
      "text/html": [
       "<style>\n",
       "    table.wandb td:nth-child(1) { padding: 0 10px; text-align: left ; width: auto;} td:nth-child(2) {text-align: left ; width: 100%}\n",
       "    .wandb-row { display: flex; flex-direction: row; flex-wrap: wrap; justify-content: flex-start; width: 100% }\n",
       "    .wandb-col { display: flex; flex-direction: column; flex-basis: 100%; flex: 1; padding: 10px; }\n",
       "    </style>\n",
       "<div class=\"wandb-row\"><div class=\"wandb-col\"><h3>Run history:</h3><br/><table class=\"wandb\"><tr><td>epoch</td><td>▁▁▁▁▂▂▂▂▃▃▃▃▃▃▃▃▄▄▄▄▅▅▅▅▆▆▆▆▆▆▆▆▇▇▇▇████</td></tr><tr><td>training accuracy</td><td>▁▂▂▃▁▂▃▄▂▃▄▅▂▃▄▅▂▃▄▅▂▃▅▆▂▃▄▆▂▄▅▆▃▄▅▇▃▄▆█</td></tr><tr><td>training loss</td><td>▂▄▆█▂▄▅▇▂▃▄▆▁▃▄▅▁▃▄▅▁▂▄▅▁▂▄▅▁▂▃▄▁▂▃▄▁▂▃▄</td></tr><tr><td>validation accuracy</td><td>▃▅▆▃▄▅▁▃▄▁▃▃▃▄▆▁▄▆▃▅▆▃▆█▄▇█▃▆▆</td></tr><tr><td>validation loss</td><td>▁▁▁▁▂▂▁▂▂▂▂▂▃▅▅▄▇█▂▄▄▂▃▃▂▄▄▂▂▃</td></tr></table><br/></div><div class=\"wandb-col\"><h3>Run summary:</h3><br/><table class=\"wandb\"><tr><td>epoch</td><td>9</td></tr><tr><td>training accuracy</td><td>0.51453</td></tr><tr><td>training loss</td><td>2.12033</td></tr><tr><td>validation accuracy</td><td>0.10884</td></tr><tr><td>validation loss</td><td>159.348</td></tr></table><br/></div></div>"
      ],
      "text/plain": [
       "<IPython.core.display.HTML object>"
      ]
     },
     "metadata": {},
     "output_type": "display_data"
    },
    {
     "data": {
      "text/html": [
       " View run <strong style=\"color:#cdcd00\">restful-sweep-11</strong> at: <a href='https://wandb.ai/gyanko/assignment3-sweeps/runs/gcayraht' target=\"_blank\">https://wandb.ai/gyanko/assignment3-sweeps/runs/gcayraht</a><br/> View project at: <a href='https://wandb.ai/gyanko/assignment3-sweeps' target=\"_blank\">https://wandb.ai/gyanko/assignment3-sweeps</a><br/>Synced 4 W&B file(s), 0 media file(s), 0 artifact file(s) and 0 other file(s)"
      ],
      "text/plain": [
       "<IPython.core.display.HTML object>"
      ]
     },
     "metadata": {},
     "output_type": "display_data"
    },
    {
     "data": {
      "text/html": [
       "Find logs at: <code>./wandb/run-20240409_184523-gcayraht/logs</code>"
      ],
      "text/plain": [
       "<IPython.core.display.HTML object>"
      ]
     },
     "metadata": {},
     "output_type": "display_data"
    },
    {
     "name": "stderr",
     "output_type": "stream",
     "text": [
      "\u001b[34m\u001b[1mwandb\u001b[0m: Agent Starting Run: 2m1klwww with config:\n",
      "\u001b[34m\u001b[1mwandb\u001b[0m: \tbatch_size: 88\n",
      "\u001b[34m\u001b[1mwandb\u001b[0m: \tdropout: 0.5\n",
      "\u001b[34m\u001b[1mwandb\u001b[0m: \tepochs: 10\n",
      "\u001b[34m\u001b[1mwandb\u001b[0m: \tfc_layer1_size: 128\n",
      "\u001b[34m\u001b[1mwandb\u001b[0m: \tlearning_rate: 0.0021738570039665996\n",
      "\u001b[34m\u001b[1mwandb\u001b[0m: \toptimizer: sgd\n"
     ]
    },
    {
     "data": {
      "text/html": [
       "Tracking run with wandb version 0.16.6"
      ],
      "text/plain": [
       "<IPython.core.display.HTML object>"
      ]
     },
     "metadata": {},
     "output_type": "display_data"
    },
    {
     "data": {
      "text/html": [
       "Run data is saved locally in <code>/content/wandb/run-20240409_185638-2m1klwww</code>"
      ],
      "text/plain": [
       "<IPython.core.display.HTML object>"
      ]
     },
     "metadata": {},
     "output_type": "display_data"
    },
    {
     "data": {
      "text/html": [
       "Syncing run <strong><a href='https://wandb.ai/gyanko/assignment3-sweeps/runs/2m1klwww' target=\"_blank\">swept-sweep-12</a></strong> to <a href='https://wandb.ai/gyanko/assignment3-sweeps' target=\"_blank\">Weights & Biases</a> (<a href='https://wandb.me/run' target=\"_blank\">docs</a>)<br/>Sweep page: <a href='https://wandb.ai/gyanko/assignment3-sweeps/sweeps/mt89zwv6' target=\"_blank\">https://wandb.ai/gyanko/assignment3-sweeps/sweeps/mt89zwv6</a>"
      ],
      "text/plain": [
       "<IPython.core.display.HTML object>"
      ]
     },
     "metadata": {},
     "output_type": "display_data"
    },
    {
     "data": {
      "text/html": [
       " View project at <a href='https://wandb.ai/gyanko/assignment3-sweeps' target=\"_blank\">https://wandb.ai/gyanko/assignment3-sweeps</a>"
      ],
      "text/plain": [
       "<IPython.core.display.HTML object>"
      ]
     },
     "metadata": {},
     "output_type": "display_data"
    },
    {
     "data": {
      "text/html": [
       " View sweep at <a href='https://wandb.ai/gyanko/assignment3-sweeps/sweeps/mt89zwv6' target=\"_blank\">https://wandb.ai/gyanko/assignment3-sweeps/sweeps/mt89zwv6</a>"
      ],
      "text/plain": [
       "<IPython.core.display.HTML object>"
      ]
     },
     "metadata": {},
     "output_type": "display_data"
    },
    {
     "data": {
      "text/html": [
       " View run at <a href='https://wandb.ai/gyanko/assignment3-sweeps/runs/2m1klwww' target=\"_blank\">https://wandb.ai/gyanko/assignment3-sweeps/runs/2m1klwww</a>"
      ],
      "text/plain": [
       "<IPython.core.display.HTML object>"
      ]
     },
     "metadata": {},
     "output_type": "display_data"
    },
    {
     "data": {
      "application/vnd.jupyter.widget-view+json": {
       "model_id": "6059177de70544629438ecdb70321e88",
       "version_major": 2,
       "version_minor": 0
      },
      "text/plain": [
       "VBox(children=(Label(value='0.011 MB of 0.011 MB uploaded\\r'), FloatProgress(value=1.0, max=1.0)))"
      ]
     },
     "metadata": {},
     "output_type": "display_data"
    },
    {
     "data": {
      "text/html": [
       "<style>\n",
       "    table.wandb td:nth-child(1) { padding: 0 10px; text-align: left ; width: auto;} td:nth-child(2) {text-align: left ; width: 100%}\n",
       "    .wandb-row { display: flex; flex-direction: row; flex-wrap: wrap; justify-content: flex-start; width: 100% }\n",
       "    .wandb-col { display: flex; flex-direction: column; flex-basis: 100%; flex: 1; padding: 10px; }\n",
       "    </style>\n",
       "<div class=\"wandb-row\"><div class=\"wandb-col\"><h3>Run history:</h3><br/><table class=\"wandb\"><tr><td>epoch</td><td>▁▁▁▁▂▂▂▂▃▃▃▃▃▃▃▃▄▄▄▄▅▅▅▅▆▆▆▆▆▆▆▆▇▇▇▇████</td></tr><tr><td>training accuracy</td><td>▁▁▁▁▁▁▁▁▁▁▂▂▁▂▃▄▂▃▄▆▂▄▅▇▂▄▆▇▂▄▆▇▂▄▆▇▂▄▆█</td></tr><tr><td>training loss</td><td>▁▃▅█▁▃▅█▁▃▅█▁▄▅█▁▄▅█▁▄▅█▁▄▆▇▁▄▆▇▁▃▆▇▁▃▆▇</td></tr><tr><td>validation accuracy</td><td>▁▁▁▁▂▂▃▅▆▃▆▇▄▇▇▄▇▇▄▇█▄▇█▅▆▇▄▆▇</td></tr><tr><td>validation loss</td><td>▂▇█▂▇█▂▆█▂▆█▂▆▇▂▆▇▁▆▇▁▅▇▁▅▆▁▅▆</td></tr></table><br/></div><div class=\"wandb-col\"><h3>Run summary:</h3><br/><table class=\"wandb\"><tr><td>epoch</td><td>9</td></tr><tr><td>training accuracy</td><td>0.22735</td></tr><tr><td>training loss</td><td>3.8164</td></tr><tr><td>validation accuracy</td><td>0.21769</td></tr><tr><td>validation loss</td><td>3.69946</td></tr></table><br/></div></div>"
      ],
      "text/plain": [
       "<IPython.core.display.HTML object>"
      ]
     },
     "metadata": {},
     "output_type": "display_data"
    },
    {
     "data": {
      "text/html": [
       " View run <strong style=\"color:#cdcd00\">swept-sweep-12</strong> at: <a href='https://wandb.ai/gyanko/assignment3-sweeps/runs/2m1klwww' target=\"_blank\">https://wandb.ai/gyanko/assignment3-sweeps/runs/2m1klwww</a><br/> View project at: <a href='https://wandb.ai/gyanko/assignment3-sweeps' target=\"_blank\">https://wandb.ai/gyanko/assignment3-sweeps</a><br/>Synced 4 W&B file(s), 0 media file(s), 0 artifact file(s) and 0 other file(s)"
      ],
      "text/plain": [
       "<IPython.core.display.HTML object>"
      ]
     },
     "metadata": {},
     "output_type": "display_data"
    },
    {
     "data": {
      "text/html": [
       "Find logs at: <code>./wandb/run-20240409_185638-2m1klwww/logs</code>"
      ],
      "text/plain": [
       "<IPython.core.display.HTML object>"
      ]
     },
     "metadata": {},
     "output_type": "display_data"
    },
    {
     "name": "stderr",
     "output_type": "stream",
     "text": [
      "\u001b[34m\u001b[1mwandb\u001b[0m: Agent Starting Run: gz5b9z8h with config:\n",
      "\u001b[34m\u001b[1mwandb\u001b[0m: \tbatch_size: 88\n",
      "\u001b[34m\u001b[1mwandb\u001b[0m: \tdropout: 0.3\n",
      "\u001b[34m\u001b[1mwandb\u001b[0m: \tepochs: 10\n",
      "\u001b[34m\u001b[1mwandb\u001b[0m: \tfc_layer1_size: 512\n",
      "\u001b[34m\u001b[1mwandb\u001b[0m: \tlearning_rate: 0.008457124463952864\n",
      "\u001b[34m\u001b[1mwandb\u001b[0m: \toptimizer: adam\n"
     ]
    },
    {
     "data": {
      "text/html": [
       "Tracking run with wandb version 0.16.6"
      ],
      "text/plain": [
       "<IPython.core.display.HTML object>"
      ]
     },
     "metadata": {},
     "output_type": "display_data"
    },
    {
     "data": {
      "text/html": [
       "Run data is saved locally in <code>/content/wandb/run-20240409_190722-gz5b9z8h</code>"
      ],
      "text/plain": [
       "<IPython.core.display.HTML object>"
      ]
     },
     "metadata": {},
     "output_type": "display_data"
    },
    {
     "data": {
      "text/html": [
       "Syncing run <strong><a href='https://wandb.ai/gyanko/assignment3-sweeps/runs/gz5b9z8h' target=\"_blank\">vocal-sweep-13</a></strong> to <a href='https://wandb.ai/gyanko/assignment3-sweeps' target=\"_blank\">Weights & Biases</a> (<a href='https://wandb.me/run' target=\"_blank\">docs</a>)<br/>Sweep page: <a href='https://wandb.ai/gyanko/assignment3-sweeps/sweeps/mt89zwv6' target=\"_blank\">https://wandb.ai/gyanko/assignment3-sweeps/sweeps/mt89zwv6</a>"
      ],
      "text/plain": [
       "<IPython.core.display.HTML object>"
      ]
     },
     "metadata": {},
     "output_type": "display_data"
    },
    {
     "data": {
      "text/html": [
       " View project at <a href='https://wandb.ai/gyanko/assignment3-sweeps' target=\"_blank\">https://wandb.ai/gyanko/assignment3-sweeps</a>"
      ],
      "text/plain": [
       "<IPython.core.display.HTML object>"
      ]
     },
     "metadata": {},
     "output_type": "display_data"
    },
    {
     "data": {
      "text/html": [
       " View sweep at <a href='https://wandb.ai/gyanko/assignment3-sweeps/sweeps/mt89zwv6' target=\"_blank\">https://wandb.ai/gyanko/assignment3-sweeps/sweeps/mt89zwv6</a>"
      ],
      "text/plain": [
       "<IPython.core.display.HTML object>"
      ]
     },
     "metadata": {},
     "output_type": "display_data"
    },
    {
     "data": {
      "text/html": [
       " View run at <a href='https://wandb.ai/gyanko/assignment3-sweeps/runs/gz5b9z8h' target=\"_blank\">https://wandb.ai/gyanko/assignment3-sweeps/runs/gz5b9z8h</a>"
      ],
      "text/plain": [
       "<IPython.core.display.HTML object>"
      ]
     },
     "metadata": {},
     "output_type": "display_data"
    },
    {
     "data": {
      "application/vnd.jupyter.widget-view+json": {
       "model_id": "7dc060959d9d477695fe9d433a8b0437",
       "version_major": 2,
       "version_minor": 0
      },
      "text/plain": [
       "VBox(children=(Label(value='0.011 MB of 0.011 MB uploaded\\r'), FloatProgress(value=1.0, max=1.0)))"
      ]
     },
     "metadata": {},
     "output_type": "display_data"
    },
    {
     "data": {
      "text/html": [
       "<style>\n",
       "    table.wandb td:nth-child(1) { padding: 0 10px; text-align: left ; width: auto;} td:nth-child(2) {text-align: left ; width: 100%}\n",
       "    .wandb-row { display: flex; flex-direction: row; flex-wrap: wrap; justify-content: flex-start; width: 100% }\n",
       "    .wandb-col { display: flex; flex-direction: column; flex-basis: 100%; flex: 1; padding: 10px; }\n",
       "    </style>\n",
       "<div class=\"wandb-row\"><div class=\"wandb-col\"><h3>Run history:</h3><br/><table class=\"wandb\"><tr><td>epoch</td><td>▁▁▁▁▂▂▂▂▃▃▃▃▃▃▃▃▄▄▄▄▅▅▅▅▆▆▆▆▆▆▆▆▇▇▇▇████</td></tr><tr><td>training accuracy</td><td>▁▂▂▄▂▃▄▆▂▂▄▅▂▄▄▆▂▄▅▇▂▄▅▇▂▄▆▇▂▄▆▇▂▅▇█▂▄▆█</td></tr><tr><td>training loss</td><td>▂▃▆█▂▃▅▇▁▂▅▇▁▃▅▇▁▃▄▆▁▃▄▆▁▃▅▆▁▃▅▆▁▃▅▅▁▃▅▆</td></tr><tr><td>validation accuracy</td><td>▅▇█▁▅▇▁▅█▂▄▅▂▅▅▂▇█▂▇█▂▅█▂▆▇▂▇▇</td></tr><tr><td>validation loss</td><td>▁▂▃▁▂▂▃▅▅▂▄▄▃▄▅▄▇█▄▇▇▁▂▂▂▃▃▁▂▂</td></tr></table><br/></div><div class=\"wandb-col\"><h3>Run summary:</h3><br/><table class=\"wandb\"><tr><td>epoch</td><td>9</td></tr><tr><td>training accuracy</td><td>0.30769</td></tr><tr><td>training loss</td><td>2.96958</td></tr><tr><td>validation accuracy</td><td>0.09524</td></tr><tr><td>validation loss</td><td>473.94482</td></tr></table><br/></div></div>"
      ],
      "text/plain": [
       "<IPython.core.display.HTML object>"
      ]
     },
     "metadata": {},
     "output_type": "display_data"
    },
    {
     "data": {
      "text/html": [
       " View run <strong style=\"color:#cdcd00\">vocal-sweep-13</strong> at: <a href='https://wandb.ai/gyanko/assignment3-sweeps/runs/gz5b9z8h' target=\"_blank\">https://wandb.ai/gyanko/assignment3-sweeps/runs/gz5b9z8h</a><br/> View project at: <a href='https://wandb.ai/gyanko/assignment3-sweeps' target=\"_blank\">https://wandb.ai/gyanko/assignment3-sweeps</a><br/>Synced 4 W&B file(s), 0 media file(s), 0 artifact file(s) and 0 other file(s)"
      ],
      "text/plain": [
       "<IPython.core.display.HTML object>"
      ]
     },
     "metadata": {},
     "output_type": "display_data"
    },
    {
     "data": {
      "text/html": [
       "Find logs at: <code>./wandb/run-20240409_190722-gz5b9z8h/logs</code>"
      ],
      "text/plain": [
       "<IPython.core.display.HTML object>"
      ]
     },
     "metadata": {},
     "output_type": "display_data"
    },
    {
     "name": "stderr",
     "output_type": "stream",
     "text": [
      "\u001b[34m\u001b[1mwandb\u001b[0m: Agent Starting Run: nuncm0uw with config:\n",
      "\u001b[34m\u001b[1mwandb\u001b[0m: \tbatch_size: 32\n",
      "\u001b[34m\u001b[1mwandb\u001b[0m: \tdropout: 0.4\n",
      "\u001b[34m\u001b[1mwandb\u001b[0m: \tepochs: 10\n",
      "\u001b[34m\u001b[1mwandb\u001b[0m: \tfc_layer1_size: 512\n",
      "\u001b[34m\u001b[1mwandb\u001b[0m: \tlearning_rate: 0.000339223951539606\n",
      "\u001b[34m\u001b[1mwandb\u001b[0m: \toptimizer: adam\n"
     ]
    },
    {
     "data": {
      "text/html": [
       "Tracking run with wandb version 0.16.6"
      ],
      "text/plain": [
       "<IPython.core.display.HTML object>"
      ]
     },
     "metadata": {},
     "output_type": "display_data"
    },
    {
     "data": {
      "text/html": [
       "Run data is saved locally in <code>/content/wandb/run-20240409_191806-nuncm0uw</code>"
      ],
      "text/plain": [
       "<IPython.core.display.HTML object>"
      ]
     },
     "metadata": {},
     "output_type": "display_data"
    },
    {
     "data": {
      "text/html": [
       "Syncing run <strong><a href='https://wandb.ai/gyanko/assignment3-sweeps/runs/nuncm0uw' target=\"_blank\">celestial-sweep-14</a></strong> to <a href='https://wandb.ai/gyanko/assignment3-sweeps' target=\"_blank\">Weights & Biases</a> (<a href='https://wandb.me/run' target=\"_blank\">docs</a>)<br/>Sweep page: <a href='https://wandb.ai/gyanko/assignment3-sweeps/sweeps/mt89zwv6' target=\"_blank\">https://wandb.ai/gyanko/assignment3-sweeps/sweeps/mt89zwv6</a>"
      ],
      "text/plain": [
       "<IPython.core.display.HTML object>"
      ]
     },
     "metadata": {},
     "output_type": "display_data"
    },
    {
     "data": {
      "text/html": [
       " View project at <a href='https://wandb.ai/gyanko/assignment3-sweeps' target=\"_blank\">https://wandb.ai/gyanko/assignment3-sweeps</a>"
      ],
      "text/plain": [
       "<IPython.core.display.HTML object>"
      ]
     },
     "metadata": {},
     "output_type": "display_data"
    },
    {
     "data": {
      "text/html": [
       " View sweep at <a href='https://wandb.ai/gyanko/assignment3-sweeps/sweeps/mt89zwv6' target=\"_blank\">https://wandb.ai/gyanko/assignment3-sweeps/sweeps/mt89zwv6</a>"
      ],
      "text/plain": [
       "<IPython.core.display.HTML object>"
      ]
     },
     "metadata": {},
     "output_type": "display_data"
    },
    {
     "data": {
      "text/html": [
       " View run at <a href='https://wandb.ai/gyanko/assignment3-sweeps/runs/nuncm0uw' target=\"_blank\">https://wandb.ai/gyanko/assignment3-sweeps/runs/nuncm0uw</a>"
      ],
      "text/plain": [
       "<IPython.core.display.HTML object>"
      ]
     },
     "metadata": {},
     "output_type": "display_data"
    },
    {
     "data": {
      "application/vnd.jupyter.widget-view+json": {
       "model_id": "ee5087e6d5c54111a7ebcf652a65c67e",
       "version_major": 2,
       "version_minor": 0
      },
      "text/plain": [
       "VBox(children=(Label(value='0.011 MB of 0.011 MB uploaded\\r'), FloatProgress(value=1.0, max=1.0)))"
      ]
     },
     "metadata": {},
     "output_type": "display_data"
    },
    {
     "data": {
      "text/html": [
       "<style>\n",
       "    table.wandb td:nth-child(1) { padding: 0 10px; text-align: left ; width: auto;} td:nth-child(2) {text-align: left ; width: 100%}\n",
       "    .wandb-row { display: flex; flex-direction: row; flex-wrap: wrap; justify-content: flex-start; width: 100% }\n",
       "    .wandb-col { display: flex; flex-direction: column; flex-basis: 100%; flex: 1; padding: 10px; }\n",
       "    </style>\n",
       "<div class=\"wandb-row\"><div class=\"wandb-col\"><h3>Run history:</h3><br/><table class=\"wandb\"><tr><td>epoch</td><td>▁▁▁▁▂▂▂▂▃▃▃▃▃▃▃▃▄▄▄▄▅▅▅▅▆▆▆▆▆▆▆▆▇▇▇▇████</td></tr><tr><td>training accuracy</td><td>▁▁▂▂▁▂▂▃▁▂▃▄▁▃▄▅▂▃▅▆▂▃▅▆▂▄▅▇▂▃▆▇▃▄▅█▂▄▆█</td></tr><tr><td>training loss</td><td>▂▄▆█▁▃▅▆▁▃▄▅▁▂▃▄▁▂▃▃▁▂▂▃▁▂▂▂▁▁▂▂▁▁▂▂▁▁▂▂</td></tr><tr><td>validation accuracy</td><td>▁▃▃▁▃▃▁▄▄▂▆▇▂▅▆▃▆▇▃▆▇▃▇█▂▆▇▃▆█</td></tr><tr><td>validation loss</td><td>▃▇█▃▆▇▂▆▇▂▅▅▂▄▅▁▃▄▁▄▄▁▃▄▁▃▄▁▃▃</td></tr></table><br/></div><div class=\"wandb-col\"><h3>Run summary:</h3><br/><table class=\"wandb\"><tr><td>epoch</td><td>9</td></tr><tr><td>training accuracy</td><td>0.87863</td></tr><tr><td>training loss</td><td>0.52381</td></tr><tr><td>validation accuracy</td><td>0.60544</td></tr><tr><td>validation loss</td><td>1.66679</td></tr></table><br/></div></div>"
      ],
      "text/plain": [
       "<IPython.core.display.HTML object>"
      ]
     },
     "metadata": {},
     "output_type": "display_data"
    },
    {
     "data": {
      "text/html": [
       " View run <strong style=\"color:#cdcd00\">celestial-sweep-14</strong> at: <a href='https://wandb.ai/gyanko/assignment3-sweeps/runs/nuncm0uw' target=\"_blank\">https://wandb.ai/gyanko/assignment3-sweeps/runs/nuncm0uw</a><br/> View project at: <a href='https://wandb.ai/gyanko/assignment3-sweeps' target=\"_blank\">https://wandb.ai/gyanko/assignment3-sweeps</a><br/>Synced 4 W&B file(s), 0 media file(s), 0 artifact file(s) and 0 other file(s)"
      ],
      "text/plain": [
       "<IPython.core.display.HTML object>"
      ]
     },
     "metadata": {},
     "output_type": "display_data"
    },
    {
     "data": {
      "text/html": [
       "Find logs at: <code>./wandb/run-20240409_191806-nuncm0uw/logs</code>"
      ],
      "text/plain": [
       "<IPython.core.display.HTML object>"
      ]
     },
     "metadata": {},
     "output_type": "display_data"
    },
    {
     "name": "stderr",
     "output_type": "stream",
     "text": [
      "\u001b[34m\u001b[1mwandb\u001b[0m: Agent Starting Run: v2z5ppbz with config:\n",
      "\u001b[34m\u001b[1mwandb\u001b[0m: \tbatch_size: 40\n",
      "\u001b[34m\u001b[1mwandb\u001b[0m: \tdropout: 0.5\n",
      "\u001b[34m\u001b[1mwandb\u001b[0m: \tepochs: 10\n",
      "\u001b[34m\u001b[1mwandb\u001b[0m: \tfc_layer1_size: 64\n",
      "\u001b[34m\u001b[1mwandb\u001b[0m: \tlearning_rate: 0.004218410109900594\n",
      "\u001b[34m\u001b[1mwandb\u001b[0m: \toptimizer: adam\n"
     ]
    },
    {
     "data": {
      "text/html": [
       "Tracking run with wandb version 0.16.6"
      ],
      "text/plain": [
       "<IPython.core.display.HTML object>"
      ]
     },
     "metadata": {},
     "output_type": "display_data"
    },
    {
     "data": {
      "text/html": [
       "Run data is saved locally in <code>/content/wandb/run-20240409_192740-v2z5ppbz</code>"
      ],
      "text/plain": [
       "<IPython.core.display.HTML object>"
      ]
     },
     "metadata": {},
     "output_type": "display_data"
    },
    {
     "data": {
      "text/html": [
       "Syncing run <strong><a href='https://wandb.ai/gyanko/assignment3-sweeps/runs/v2z5ppbz' target=\"_blank\">royal-sweep-15</a></strong> to <a href='https://wandb.ai/gyanko/assignment3-sweeps' target=\"_blank\">Weights & Biases</a> (<a href='https://wandb.me/run' target=\"_blank\">docs</a>)<br/>Sweep page: <a href='https://wandb.ai/gyanko/assignment3-sweeps/sweeps/mt89zwv6' target=\"_blank\">https://wandb.ai/gyanko/assignment3-sweeps/sweeps/mt89zwv6</a>"
      ],
      "text/plain": [
       "<IPython.core.display.HTML object>"
      ]
     },
     "metadata": {},
     "output_type": "display_data"
    },
    {
     "data": {
      "text/html": [
       " View project at <a href='https://wandb.ai/gyanko/assignment3-sweeps' target=\"_blank\">https://wandb.ai/gyanko/assignment3-sweeps</a>"
      ],
      "text/plain": [
       "<IPython.core.display.HTML object>"
      ]
     },
     "metadata": {},
     "output_type": "display_data"
    },
    {
     "data": {
      "text/html": [
       " View sweep at <a href='https://wandb.ai/gyanko/assignment3-sweeps/sweeps/mt89zwv6' target=\"_blank\">https://wandb.ai/gyanko/assignment3-sweeps/sweeps/mt89zwv6</a>"
      ],
      "text/plain": [
       "<IPython.core.display.HTML object>"
      ]
     },
     "metadata": {},
     "output_type": "display_data"
    },
    {
     "data": {
      "text/html": [
       " View run at <a href='https://wandb.ai/gyanko/assignment3-sweeps/runs/v2z5ppbz' target=\"_blank\">https://wandb.ai/gyanko/assignment3-sweeps/runs/v2z5ppbz</a>"
      ],
      "text/plain": [
       "<IPython.core.display.HTML object>"
      ]
     },
     "metadata": {},
     "output_type": "display_data"
    }
   ],
   "source": [
    "wandb.agent(sweep_id, trainModel, count=5)"
   ]
  }
 ],
 "metadata": {
  "colab": {
   "authorship_tag": "ABX9TyMfOrqhn8OhJt8i/YMqx7pK",
   "include_colab_link": true,
   "mount_file_id": "1od0-PapSV0mtrInjAKSHGHF26qNnJNib",
   "provenance": []
  },
  "kernelspec": {
   "display_name": "Python 3 (ipykernel)",
   "language": "python",
   "name": "python3"
  },
  "language_info": {
   "codemirror_mode": {
    "name": "ipython",
    "version": 3
   },
   "file_extension": ".py",
   "mimetype": "text/x-python",
   "name": "python",
   "nbconvert_exporter": "python",
   "pygments_lexer": "ipython3",
   "version": "3.10.12"
  },
  "widgets": {
   "application/vnd.jupyter.widget-state+json": {}
  }
 },
 "nbformat": 4,
 "nbformat_minor": 1
}
