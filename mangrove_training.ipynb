{
 "cells": [
  {
   "cell_type": "markdown",
   "id": "1f93ccad",
   "metadata": {
    "colab_type": "text",
    "id": "view-in-github"
   },
   "source": [
    "<a href=\"https://colab.research.google.com/github/yussif-issah/css54FinalProject/blob/main/mangrove_training.ipynb\" target=\"_parent\"><img src=\"https://colab.research.google.com/assets/colab-badge.svg\" alt=\"Open In Colab\"/></a>"
   ]
  },
  {
   "cell_type": "code",
   "execution_count": 48,
   "id": "a02e6f7e",
   "metadata": {
    "id": "a02e6f7e"
   },
   "outputs": [],
   "source": [
    "import os\n",
    "from PIL import Image\n",
    "import torch\n",
    "from torch.utils.data import Dataset,DataLoader\n",
    "from torchvision import transforms,models,datasets\n",
    "import torch.nn as nn\n",
    "import torch.optim as optim\n",
    "from torch.utils.data import random_split\n",
    "from torcheval.metrics.functional import multiclass_f1_score\n",
    "from sklearn.metrics import confusion_matrix, ConfusionMatrixDisplay,classification_report\n",
    "import matplotlib.pyplot as plt\n",
    "import numpy as np\n",
    "import time"
   ]
  },
  {
   "cell_type": "code",
   "execution_count": 55,
   "id": "87366345",
   "metadata": {},
   "outputs": [
    {
     "name": "stdout",
     "output_type": "stream",
     "text": [
      "Defaulting to user installation because normal site-packages is not writeable\n",
      "Collecting torcheval\n",
      "  Downloading torcheval-0.0.7-py3-none-any.whl (179 kB)\n",
      "\u001b[2K     \u001b[38;2;114;156;31m━━━━━━━━━━━━━━━━━━━━━━━━━━━━━━━━━━━━━━━\u001b[0m \u001b[32m179.2/179.2 KB\u001b[0m \u001b[31m4.6 MB/s\u001b[0m eta \u001b[36m0:00:00\u001b[0m[31m4.9 MB/s\u001b[0m eta \u001b[36m0:00:01\u001b[0m\n",
      "\u001b[?25hRequirement already satisfied: typing-extensions in /usr/lib/python3/dist-packages (from torcheval) (3.10.0.2)\n",
      "Installing collected packages: torcheval\n",
      "Successfully installed torcheval-0.0.7\n"
     ]
    }
   ],
   "source": [
    "!pip install torcheval"
   ]
  },
  {
   "cell_type": "code",
   "execution_count": 2,
   "id": "a1ca1ba3",
   "metadata": {
    "id": "a1ca1ba3"
   },
   "outputs": [],
   "source": [
    "device = torch.device(\"cuda:0\" if torch.cuda.is_available() else \"cpu\")"
   ]
  },
  {
   "cell_type": "code",
   "execution_count": 3,
   "id": "1fdd220f",
   "metadata": {
    "id": "1fdd220f"
   },
   "outputs": [],
   "source": [
    "NUM_CLASSES = 3\n",
    "TRAINING_DATA_PATH = \"datamangrove/train\"\n",
    "VALIDATION_DATA_PATH=\"datamangrove/val\"\n",
    "TEST_DATA_PATH = \"datamangrove/test\""
   ]
  },
  {
   "cell_type": "code",
   "execution_count": 4,
   "id": "fba509aa",
   "metadata": {
    "id": "fba509aa"
   },
   "outputs": [
    {
     "name": "stderr",
     "output_type": "stream",
     "text": [
      "/usr/lib/python3/dist-packages/torchvision/models/_utils.py:208: UserWarning: The parameter 'pretrained' is deprecated since 0.13 and may be removed in the future, please use 'weights' instead.\n",
      "  warnings.warn(\n",
      "/usr/lib/python3/dist-packages/torchvision/models/_utils.py:223: UserWarning: Arguments other than a weight enum or `None` for 'weights' are deprecated since 0.13 and may be removed in the future. The current behavior is equivalent to passing `weights=ResNet50_Weights.IMAGENET1K_V1`. You can also use `weights=ResNet50_Weights.DEFAULT` to get the most up-to-date weights.\n",
      "  warnings.warn(msg)\n"
     ]
    },
    {
     "data": {
      "text/plain": [
       "<bound method Module.eval of ResNet(\n",
       "  (conv1): Conv2d(3, 64, kernel_size=(7, 7), stride=(2, 2), padding=(3, 3), bias=False)\n",
       "  (bn1): BatchNorm2d(64, eps=1e-05, momentum=0.1, affine=True, track_running_stats=True)\n",
       "  (relu): ReLU(inplace=True)\n",
       "  (maxpool): MaxPool2d(kernel_size=3, stride=2, padding=1, dilation=1, ceil_mode=False)\n",
       "  (layer1): Sequential(\n",
       "    (0): Bottleneck(\n",
       "      (conv1): Conv2d(64, 64, kernel_size=(1, 1), stride=(1, 1), bias=False)\n",
       "      (bn1): BatchNorm2d(64, eps=1e-05, momentum=0.1, affine=True, track_running_stats=True)\n",
       "      (conv2): Conv2d(64, 64, kernel_size=(3, 3), stride=(1, 1), padding=(1, 1), bias=False)\n",
       "      (bn2): BatchNorm2d(64, eps=1e-05, momentum=0.1, affine=True, track_running_stats=True)\n",
       "      (conv3): Conv2d(64, 256, kernel_size=(1, 1), stride=(1, 1), bias=False)\n",
       "      (bn3): BatchNorm2d(256, eps=1e-05, momentum=0.1, affine=True, track_running_stats=True)\n",
       "      (relu): ReLU(inplace=True)\n",
       "      (downsample): Sequential(\n",
       "        (0): Conv2d(64, 256, kernel_size=(1, 1), stride=(1, 1), bias=False)\n",
       "        (1): BatchNorm2d(256, eps=1e-05, momentum=0.1, affine=True, track_running_stats=True)\n",
       "      )\n",
       "    )\n",
       "    (1): Bottleneck(\n",
       "      (conv1): Conv2d(256, 64, kernel_size=(1, 1), stride=(1, 1), bias=False)\n",
       "      (bn1): BatchNorm2d(64, eps=1e-05, momentum=0.1, affine=True, track_running_stats=True)\n",
       "      (conv2): Conv2d(64, 64, kernel_size=(3, 3), stride=(1, 1), padding=(1, 1), bias=False)\n",
       "      (bn2): BatchNorm2d(64, eps=1e-05, momentum=0.1, affine=True, track_running_stats=True)\n",
       "      (conv3): Conv2d(64, 256, kernel_size=(1, 1), stride=(1, 1), bias=False)\n",
       "      (bn3): BatchNorm2d(256, eps=1e-05, momentum=0.1, affine=True, track_running_stats=True)\n",
       "      (relu): ReLU(inplace=True)\n",
       "    )\n",
       "    (2): Bottleneck(\n",
       "      (conv1): Conv2d(256, 64, kernel_size=(1, 1), stride=(1, 1), bias=False)\n",
       "      (bn1): BatchNorm2d(64, eps=1e-05, momentum=0.1, affine=True, track_running_stats=True)\n",
       "      (conv2): Conv2d(64, 64, kernel_size=(3, 3), stride=(1, 1), padding=(1, 1), bias=False)\n",
       "      (bn2): BatchNorm2d(64, eps=1e-05, momentum=0.1, affine=True, track_running_stats=True)\n",
       "      (conv3): Conv2d(64, 256, kernel_size=(1, 1), stride=(1, 1), bias=False)\n",
       "      (bn3): BatchNorm2d(256, eps=1e-05, momentum=0.1, affine=True, track_running_stats=True)\n",
       "      (relu): ReLU(inplace=True)\n",
       "    )\n",
       "  )\n",
       "  (layer2): Sequential(\n",
       "    (0): Bottleneck(\n",
       "      (conv1): Conv2d(256, 128, kernel_size=(1, 1), stride=(1, 1), bias=False)\n",
       "      (bn1): BatchNorm2d(128, eps=1e-05, momentum=0.1, affine=True, track_running_stats=True)\n",
       "      (conv2): Conv2d(128, 128, kernel_size=(3, 3), stride=(2, 2), padding=(1, 1), bias=False)\n",
       "      (bn2): BatchNorm2d(128, eps=1e-05, momentum=0.1, affine=True, track_running_stats=True)\n",
       "      (conv3): Conv2d(128, 512, kernel_size=(1, 1), stride=(1, 1), bias=False)\n",
       "      (bn3): BatchNorm2d(512, eps=1e-05, momentum=0.1, affine=True, track_running_stats=True)\n",
       "      (relu): ReLU(inplace=True)\n",
       "      (downsample): Sequential(\n",
       "        (0): Conv2d(256, 512, kernel_size=(1, 1), stride=(2, 2), bias=False)\n",
       "        (1): BatchNorm2d(512, eps=1e-05, momentum=0.1, affine=True, track_running_stats=True)\n",
       "      )\n",
       "    )\n",
       "    (1): Bottleneck(\n",
       "      (conv1): Conv2d(512, 128, kernel_size=(1, 1), stride=(1, 1), bias=False)\n",
       "      (bn1): BatchNorm2d(128, eps=1e-05, momentum=0.1, affine=True, track_running_stats=True)\n",
       "      (conv2): Conv2d(128, 128, kernel_size=(3, 3), stride=(1, 1), padding=(1, 1), bias=False)\n",
       "      (bn2): BatchNorm2d(128, eps=1e-05, momentum=0.1, affine=True, track_running_stats=True)\n",
       "      (conv3): Conv2d(128, 512, kernel_size=(1, 1), stride=(1, 1), bias=False)\n",
       "      (bn3): BatchNorm2d(512, eps=1e-05, momentum=0.1, affine=True, track_running_stats=True)\n",
       "      (relu): ReLU(inplace=True)\n",
       "    )\n",
       "    (2): Bottleneck(\n",
       "      (conv1): Conv2d(512, 128, kernel_size=(1, 1), stride=(1, 1), bias=False)\n",
       "      (bn1): BatchNorm2d(128, eps=1e-05, momentum=0.1, affine=True, track_running_stats=True)\n",
       "      (conv2): Conv2d(128, 128, kernel_size=(3, 3), stride=(1, 1), padding=(1, 1), bias=False)\n",
       "      (bn2): BatchNorm2d(128, eps=1e-05, momentum=0.1, affine=True, track_running_stats=True)\n",
       "      (conv3): Conv2d(128, 512, kernel_size=(1, 1), stride=(1, 1), bias=False)\n",
       "      (bn3): BatchNorm2d(512, eps=1e-05, momentum=0.1, affine=True, track_running_stats=True)\n",
       "      (relu): ReLU(inplace=True)\n",
       "    )\n",
       "    (3): Bottleneck(\n",
       "      (conv1): Conv2d(512, 128, kernel_size=(1, 1), stride=(1, 1), bias=False)\n",
       "      (bn1): BatchNorm2d(128, eps=1e-05, momentum=0.1, affine=True, track_running_stats=True)\n",
       "      (conv2): Conv2d(128, 128, kernel_size=(3, 3), stride=(1, 1), padding=(1, 1), bias=False)\n",
       "      (bn2): BatchNorm2d(128, eps=1e-05, momentum=0.1, affine=True, track_running_stats=True)\n",
       "      (conv3): Conv2d(128, 512, kernel_size=(1, 1), stride=(1, 1), bias=False)\n",
       "      (bn3): BatchNorm2d(512, eps=1e-05, momentum=0.1, affine=True, track_running_stats=True)\n",
       "      (relu): ReLU(inplace=True)\n",
       "    )\n",
       "  )\n",
       "  (layer3): Sequential(\n",
       "    (0): Bottleneck(\n",
       "      (conv1): Conv2d(512, 256, kernel_size=(1, 1), stride=(1, 1), bias=False)\n",
       "      (bn1): BatchNorm2d(256, eps=1e-05, momentum=0.1, affine=True, track_running_stats=True)\n",
       "      (conv2): Conv2d(256, 256, kernel_size=(3, 3), stride=(2, 2), padding=(1, 1), bias=False)\n",
       "      (bn2): BatchNorm2d(256, eps=1e-05, momentum=0.1, affine=True, track_running_stats=True)\n",
       "      (conv3): Conv2d(256, 1024, kernel_size=(1, 1), stride=(1, 1), bias=False)\n",
       "      (bn3): BatchNorm2d(1024, eps=1e-05, momentum=0.1, affine=True, track_running_stats=True)\n",
       "      (relu): ReLU(inplace=True)\n",
       "      (downsample): Sequential(\n",
       "        (0): Conv2d(512, 1024, kernel_size=(1, 1), stride=(2, 2), bias=False)\n",
       "        (1): BatchNorm2d(1024, eps=1e-05, momentum=0.1, affine=True, track_running_stats=True)\n",
       "      )\n",
       "    )\n",
       "    (1): Bottleneck(\n",
       "      (conv1): Conv2d(1024, 256, kernel_size=(1, 1), stride=(1, 1), bias=False)\n",
       "      (bn1): BatchNorm2d(256, eps=1e-05, momentum=0.1, affine=True, track_running_stats=True)\n",
       "      (conv2): Conv2d(256, 256, kernel_size=(3, 3), stride=(1, 1), padding=(1, 1), bias=False)\n",
       "      (bn2): BatchNorm2d(256, eps=1e-05, momentum=0.1, affine=True, track_running_stats=True)\n",
       "      (conv3): Conv2d(256, 1024, kernel_size=(1, 1), stride=(1, 1), bias=False)\n",
       "      (bn3): BatchNorm2d(1024, eps=1e-05, momentum=0.1, affine=True, track_running_stats=True)\n",
       "      (relu): ReLU(inplace=True)\n",
       "    )\n",
       "    (2): Bottleneck(\n",
       "      (conv1): Conv2d(1024, 256, kernel_size=(1, 1), stride=(1, 1), bias=False)\n",
       "      (bn1): BatchNorm2d(256, eps=1e-05, momentum=0.1, affine=True, track_running_stats=True)\n",
       "      (conv2): Conv2d(256, 256, kernel_size=(3, 3), stride=(1, 1), padding=(1, 1), bias=False)\n",
       "      (bn2): BatchNorm2d(256, eps=1e-05, momentum=0.1, affine=True, track_running_stats=True)\n",
       "      (conv3): Conv2d(256, 1024, kernel_size=(1, 1), stride=(1, 1), bias=False)\n",
       "      (bn3): BatchNorm2d(1024, eps=1e-05, momentum=0.1, affine=True, track_running_stats=True)\n",
       "      (relu): ReLU(inplace=True)\n",
       "    )\n",
       "    (3): Bottleneck(\n",
       "      (conv1): Conv2d(1024, 256, kernel_size=(1, 1), stride=(1, 1), bias=False)\n",
       "      (bn1): BatchNorm2d(256, eps=1e-05, momentum=0.1, affine=True, track_running_stats=True)\n",
       "      (conv2): Conv2d(256, 256, kernel_size=(3, 3), stride=(1, 1), padding=(1, 1), bias=False)\n",
       "      (bn2): BatchNorm2d(256, eps=1e-05, momentum=0.1, affine=True, track_running_stats=True)\n",
       "      (conv3): Conv2d(256, 1024, kernel_size=(1, 1), stride=(1, 1), bias=False)\n",
       "      (bn3): BatchNorm2d(1024, eps=1e-05, momentum=0.1, affine=True, track_running_stats=True)\n",
       "      (relu): ReLU(inplace=True)\n",
       "    )\n",
       "    (4): Bottleneck(\n",
       "      (conv1): Conv2d(1024, 256, kernel_size=(1, 1), stride=(1, 1), bias=False)\n",
       "      (bn1): BatchNorm2d(256, eps=1e-05, momentum=0.1, affine=True, track_running_stats=True)\n",
       "      (conv2): Conv2d(256, 256, kernel_size=(3, 3), stride=(1, 1), padding=(1, 1), bias=False)\n",
       "      (bn2): BatchNorm2d(256, eps=1e-05, momentum=0.1, affine=True, track_running_stats=True)\n",
       "      (conv3): Conv2d(256, 1024, kernel_size=(1, 1), stride=(1, 1), bias=False)\n",
       "      (bn3): BatchNorm2d(1024, eps=1e-05, momentum=0.1, affine=True, track_running_stats=True)\n",
       "      (relu): ReLU(inplace=True)\n",
       "    )\n",
       "    (5): Bottleneck(\n",
       "      (conv1): Conv2d(1024, 256, kernel_size=(1, 1), stride=(1, 1), bias=False)\n",
       "      (bn1): BatchNorm2d(256, eps=1e-05, momentum=0.1, affine=True, track_running_stats=True)\n",
       "      (conv2): Conv2d(256, 256, kernel_size=(3, 3), stride=(1, 1), padding=(1, 1), bias=False)\n",
       "      (bn2): BatchNorm2d(256, eps=1e-05, momentum=0.1, affine=True, track_running_stats=True)\n",
       "      (conv3): Conv2d(256, 1024, kernel_size=(1, 1), stride=(1, 1), bias=False)\n",
       "      (bn3): BatchNorm2d(1024, eps=1e-05, momentum=0.1, affine=True, track_running_stats=True)\n",
       "      (relu): ReLU(inplace=True)\n",
       "    )\n",
       "  )\n",
       "  (layer4): Sequential(\n",
       "    (0): Bottleneck(\n",
       "      (conv1): Conv2d(1024, 512, kernel_size=(1, 1), stride=(1, 1), bias=False)\n",
       "      (bn1): BatchNorm2d(512, eps=1e-05, momentum=0.1, affine=True, track_running_stats=True)\n",
       "      (conv2): Conv2d(512, 512, kernel_size=(3, 3), stride=(2, 2), padding=(1, 1), bias=False)\n",
       "      (bn2): BatchNorm2d(512, eps=1e-05, momentum=0.1, affine=True, track_running_stats=True)\n",
       "      (conv3): Conv2d(512, 2048, kernel_size=(1, 1), stride=(1, 1), bias=False)\n",
       "      (bn3): BatchNorm2d(2048, eps=1e-05, momentum=0.1, affine=True, track_running_stats=True)\n",
       "      (relu): ReLU(inplace=True)\n",
       "      (downsample): Sequential(\n",
       "        (0): Conv2d(1024, 2048, kernel_size=(1, 1), stride=(2, 2), bias=False)\n",
       "        (1): BatchNorm2d(2048, eps=1e-05, momentum=0.1, affine=True, track_running_stats=True)\n",
       "      )\n",
       "    )\n",
       "    (1): Bottleneck(\n",
       "      (conv1): Conv2d(2048, 512, kernel_size=(1, 1), stride=(1, 1), bias=False)\n",
       "      (bn1): BatchNorm2d(512, eps=1e-05, momentum=0.1, affine=True, track_running_stats=True)\n",
       "      (conv2): Conv2d(512, 512, kernel_size=(3, 3), stride=(1, 1), padding=(1, 1), bias=False)\n",
       "      (bn2): BatchNorm2d(512, eps=1e-05, momentum=0.1, affine=True, track_running_stats=True)\n",
       "      (conv3): Conv2d(512, 2048, kernel_size=(1, 1), stride=(1, 1), bias=False)\n",
       "      (bn3): BatchNorm2d(2048, eps=1e-05, momentum=0.1, affine=True, track_running_stats=True)\n",
       "      (relu): ReLU(inplace=True)\n",
       "    )\n",
       "    (2): Bottleneck(\n",
       "      (conv1): Conv2d(2048, 512, kernel_size=(1, 1), stride=(1, 1), bias=False)\n",
       "      (bn1): BatchNorm2d(512, eps=1e-05, momentum=0.1, affine=True, track_running_stats=True)\n",
       "      (conv2): Conv2d(512, 512, kernel_size=(3, 3), stride=(1, 1), padding=(1, 1), bias=False)\n",
       "      (bn2): BatchNorm2d(512, eps=1e-05, momentum=0.1, affine=True, track_running_stats=True)\n",
       "      (conv3): Conv2d(512, 2048, kernel_size=(1, 1), stride=(1, 1), bias=False)\n",
       "      (bn3): BatchNorm2d(2048, eps=1e-05, momentum=0.1, affine=True, track_running_stats=True)\n",
       "      (relu): ReLU(inplace=True)\n",
       "    )\n",
       "  )\n",
       "  (avgpool): AdaptiveAvgPool2d(output_size=(1, 1))\n",
       "  (fc): Linear(in_features=2048, out_features=1000, bias=True)\n",
       ")>"
      ]
     },
     "execution_count": 4,
     "metadata": {},
     "output_type": "execute_result"
    }
   ],
   "source": [
    "model = models.resnet50(pretrained=True)\n",
    "\n",
    "model.eval"
   ]
  },
  {
   "cell_type": "code",
   "execution_count": 86,
   "id": "756a4a1e",
   "metadata": {
    "id": "756a4a1e"
   },
   "outputs": [],
   "source": [
    "def buildModel(nn,model_type):\n",
    "    if model_type==\"resnet\":\n",
    "        model = models.resnet50(pretrained=True)\n",
    "        model.fc = nn.Sequential(\n",
    "        nn.Linear(model.fc.in_features, NUM_CLASSES))\n",
    "        \n",
    "    if model_type ==\"vgg16\":\n",
    "        model = models.vgg16(pretrained=True)\n",
    "        model.classifier[-1] = nn.Linear(model.classifier[-1].in_features, NUM_CLASSES)\n",
    "        \n",
    "    if model_type==\"alexnet\":\n",
    "        model = models.alexnet(pretrained=True)\n",
    "        model.classifier[-1] = nn.Linear(model.classifier[-1].in_features, NUM_CLASSES)\n",
    "    return model.to(device)"
   ]
  },
  {
   "cell_type": "code",
   "execution_count": 87,
   "id": "2548044b",
   "metadata": {
    "id": "2548044b"
   },
   "outputs": [],
   "source": [
    "def buildDataLoader(batchSize):\n",
    "    ttransform = transforms.Compose([\n",
    "    transforms.Resize((224,224)),\n",
    "    transforms.RandomHorizontalFlip(),\n",
    "    transforms.RandomRotation(degrees=30),\n",
    "    transforms.ToTensor(),\n",
    "    ])\n",
    "  \n",
    "    train_data = datasets.ImageFolder(\"datamangrove/train\",transform=ttransform)\n",
    "    val_data = datasets.ImageFolder(\"datamangrove/val\",transform=ttransform)\n",
    "    test_data = datasets.ImageFolder(\"datamangrove/train\",transform=ttransform)\n",
    "\n",
    "    train_data_loader = DataLoader(train_data,batch_size=batchSize,shuffle=True)\n",
    "    val_data_loader = DataLoader(val_data,batch_size=batchSize,shuffle=True)\n",
    "    test_data_loader = DataLoader(test_data,batch_size=24,shuffle=True)\n",
    "\n",
    "    image_datasets = {\"train\":train_data,\"val\":val_data,\"test\":test_data}\n",
    "    data_loaders = {\"train\": train_data_loader,\"val\":val_data_loader,\"test\":test_data_loader}\n",
    "\n",
    "    return data_loaders,image_datasets"
   ]
  },
  {
   "cell_type": "code",
   "execution_count": 43,
   "id": "80c15172",
   "metadata": {
    "id": "80c15172"
   },
   "outputs": [],
   "source": [
    "def buildOptimizer(model,learning_rate):\n",
    "    #return optim(model.parameters(),lr=learning_rate)\n",
    "    return optim.SGD(model.parameters(),lr=learning_rate, momentum=0.9)\n"
   ]
  },
  {
   "cell_type": "code",
   "execution_count": 44,
   "id": "df9dc29b",
   "metadata": {
    "id": "df9dc29b"
   },
   "outputs": [],
   "source": [
    "criterion = nn.CrossEntropyLoss()"
   ]
  },
  {
   "cell_type": "code",
   "execution_count": 54,
   "id": "6a35d7d5",
   "metadata": {
    "id": "6a35d7d5"
   },
   "outputs": [],
   "source": [
    "def trainModel(epochs,batch_size,learning_rate,model_type):\n",
    "\n",
    "    data_loaders,datasets= buildDataLoader(batch_size)\n",
    "    model = buildModel(torch.nn,model_type) \n",
    "    optimizer = buildOptimizer(model,learning_rate)\n",
    "\n",
    "    for epoch in range(epochs):\n",
    "\n",
    "      for phase in [\"train\",\"val\"]:\n",
    "\n",
    "        if phase == \"train\":\n",
    "          model.train()\n",
    "        else:\n",
    "          model.eval()\n",
    "\n",
    "        running_loss = 0\n",
    "        correct = 0\n",
    "\n",
    "        for inputs,labels in data_loaders[phase]:\n",
    "          inputs,labels = inputs.to(device),labels.to(device)\n",
    "\n",
    "          optimizer.zero_grad()\n",
    "\n",
    "          with torch.set_grad_enabled(phase==\"train\"):\n",
    "            outputs = model(inputs)\n",
    "            _,preds = torch.max(outputs,1)\n",
    "            loss = criterion(outputs,labels)\n",
    "\n",
    "            if phase == \"train\":\n",
    "              loss.backward()\n",
    "              optimizer.step()\n",
    "\n",
    "          running_loss += loss.item()*inputs.size(0)\n",
    "          correct += torch.sum(preds ==labels)\n",
    "\n",
    "          epoch_loss = running_loss / len(datasets[phase])\n",
    "          epoch_acc = correct.double() / len(datasets[phase])\n",
    "\n",
    "          if phase == \"train\":\n",
    "            print(f\"epoch: {epoch+1} training loss {epoch_loss}, training accuracy {epoch_acc}\")\n",
    "          else:\n",
    "            print(f\"epoch: {epoch+1} validation loss {epoch_loss}, validation accuracy {epoch_acc}\")\n",
    "    torch.save(model.state_dict(),\"resnet.pth\")\n",
    "    return data_loaders,model"
   ]
  },
  {
   "cell_type": "code",
   "execution_count": 55,
   "id": "JUeRK-fO3apR",
   "metadata": {
    "id": "JUeRK-fO3apR"
   },
   "outputs": [],
   "source": [
    "def testModel(model):\n",
    "    ttransform = transforms.Compose([\n",
    "    transforms.Resize((224,224)),\n",
    "    transforms.ToTensor(),\n",
    "    ])\n",
    "    test_data = datasets.ImageFolder(TEST_DATA_PATH,transform = ttransform)\n",
    "    test_loader = DataLoader(test_data,batch_size=31,shuffle=False)\n",
    "    \n",
    "    with torch.no_grad():\n",
    "        for inputs,labels in test_loader:\n",
    "            inputs, labels = inputs.to(device),labels.to(device)\n",
    "            preds = model(inputs)\n",
    "    return preds,labels\n"
   ]
  },
  {
   "cell_type": "code",
   "execution_count": 75,
   "id": "KVQ8yUgW6ua0",
   "metadata": {
    "id": "KVQ8yUgW6ua0"
   },
   "outputs": [],
   "source": [
    "def computeMetrics(predictions,labels):\n",
    "    cm = confusion_matrix(labels.cpu().numpy(), predictions.cpu().numpy())\n",
    "    disp = ConfusionMatrixDisplay(confusion_matrix=cm,display_labels=test_loader.dataset.classes)\n",
    "    disp.plot()\n",
    "    plt.title(\"CONFUSION MATRIX\")\n",
    "    plt.xticks(rotation=90)\n",
    "    report=  classification_report(labels.cpu().numpy(), predictions.cpu().numpy(),target_names=test_loader.dataset.classes)\n",
    "    print(\"CLASSIFICATION REPORT\")\n",
    "    print(report)\n",
    "    test_accuracy = np.sum(labels.cpu().numpy()==predictions.cpu().numpy())/len(labels)\n",
    "    print(f\"TEST ACCURACY: {test_accuracy*100}\")\n"
   ]
  },
  {
   "cell_type": "code",
   "execution_count": 68,
   "id": "56a6f957",
   "metadata": {},
   "outputs": [
    {
     "name": "stdout",
     "output_type": "stream",
     "text": [
      "epoch: 1 training loss 0.3885012773367075, training accuracy 0.08653846153846154\n",
      "epoch: 1 training loss 0.7443509101867676, training accuracy 0.1826923076923077\n",
      "epoch: 1 training loss 1.0805585567767804, training accuracy 0.3028846153846154\n",
      "epoch: 1 training loss 1.1677770156126757, training accuracy 0.3317307692307693\n",
      "epoch: 1 validation loss 1.0695384740829468, validation accuracy 0.3770491803278689\n",
      "epoch: 2 training loss 0.3011611791757437, training accuracy 0.1778846153846154\n",
      "epoch: 2 training loss 0.6401045139019306, training accuracy 0.28365384615384615\n",
      "epoch: 2 training loss 0.9376475627605731, training accuracy 0.42307692307692313\n",
      "epoch: 2 training loss 1.0040430747545683, training accuracy 0.4759615384615385\n",
      "epoch: 2 validation loss 0.915285050868988, validation accuracy 0.7049180327868853\n",
      "epoch: 3 training loss 0.2561919689178467, training accuracy 0.25480769230769235\n",
      "epoch: 3 training loss 0.4904775436107929, training accuracy 0.5096153846153847\n",
      "epoch: 3 training loss 0.731321774996244, training accuracy 0.7115384615384616\n",
      "epoch: 3 training loss 0.7798174894773043, training accuracy 0.7788461538461539\n",
      "epoch: 3 validation loss 0.7835618853569031, validation accuracy 0.6721311475409837\n",
      "epoch: 4 training loss 0.20323395729064941, training accuracy 0.25961538461538464\n",
      "epoch: 4 training loss 0.38205880385178786, training accuracy 0.5288461538461539\n",
      "epoch: 4 training loss 0.5360045249645526, training accuracy 0.8173076923076924\n",
      "epoch: 4 training loss 0.5700295154864972, training accuracy 0.889423076923077\n",
      "epoch: 4 validation loss 0.514738917350769, validation accuracy 0.9836065573770493\n",
      "epoch: 5 training loss 0.12294125556945801, training accuracy 0.3076923076923077\n",
      "epoch: 5 training loss 0.23502140778761643, training accuracy 0.6105769230769231\n",
      "epoch: 5 training loss 0.34019344586592454, training accuracy 0.9086538461538463\n",
      "epoch: 5 training loss 0.3643106772349431, training accuracy 0.9807692307692308\n",
      "epoch: 5 validation loss 0.3403734564781189, validation accuracy 0.9836065573770493\n",
      "epoch: 6 training loss 0.07711694790766789, training accuracy 0.3076923076923077\n",
      "epoch: 6 training loss 0.14907408219117385, training accuracy 0.6105769230769231\n",
      "epoch: 6 training loss 0.21971958875656128, training accuracy 0.9038461538461539\n",
      "epoch: 6 training loss 0.23297412464251885, training accuracy 0.9807692307692308\n",
      "epoch: 6 validation loss 0.19789187610149384, validation accuracy 1.0\n",
      "epoch: 7 training loss 0.05081981420516968, training accuracy 0.3076923076923077\n",
      "epoch: 7 training loss 0.09068873295417199, training accuracy 0.6153846153846154\n",
      "epoch: 7 training loss 0.13161193407498872, training accuracy 0.9182692307692308\n",
      "epoch: 7 training loss 0.14097429640018022, training accuracy 0.9951923076923077\n",
      "epoch: 7 validation loss 0.1199318990111351, validation accuracy 1.0\n",
      "epoch: 8 training loss 0.03238728871712318, training accuracy 0.3076923076923077\n",
      "epoch: 8 training loss 0.057076449577624984, training accuracy 0.6153846153846154\n",
      "epoch: 8 training loss 0.08446069634877719, training accuracy 0.9230769230769231\n",
      "epoch: 8 training loss 0.09078527757754692, training accuracy 1.0\n",
      "epoch: 8 validation loss 0.07346440106630325, validation accuracy 1.0\n",
      "epoch: 9 training loss 0.017740256511248075, training accuracy 0.3076923076923077\n",
      "epoch: 9 training loss 0.033681933696453385, training accuracy 0.6105769230769231\n",
      "epoch: 9 training loss 0.06646084097715524, training accuracy 0.9134615384615385\n",
      "epoch: 9 training loss 0.07185384745781238, training accuracy 0.9903846153846154\n",
      "epoch: 9 validation loss 0.04933270812034607, validation accuracy 1.0\n",
      "epoch: 10 training loss 0.016480835584493782, training accuracy 0.3076923076923077\n",
      "epoch: 10 training loss 0.030482810277205247, training accuracy 0.6153846153846154\n",
      "epoch: 10 training loss 0.044317579040160544, training accuracy 0.9230769230769231\n",
      "epoch: 10 training loss 0.056682089200386636, training accuracy 0.9951923076923077\n",
      "epoch: 10 validation loss 0.031248636543750763, validation accuracy 1.0\n",
      "execution time 52.23376774787903\n"
     ]
    }
   ],
   "source": [
    "start = time.time()\n",
    "data_loaders,resnet_model = trainModel(10,64,0.001640,\"resnet\") #20,48,0.5,256,0.001640\n",
    "end = time.time()\n",
    "\n",
    "print(f\"execution time {end-start}\")"
   ]
  },
  {
   "cell_type": "code",
   "execution_count": 76,
   "id": "d28ef06f",
   "metadata": {},
   "outputs": [],
   "source": [
    "resnet_preds,labels = testModel(resnet_model)\n"
   ]
  },
  {
   "cell_type": "code",
   "execution_count": 77,
   "id": "51716da2",
   "metadata": {},
   "outputs": [
    {
     "name": "stdout",
     "output_type": "stream",
     "text": [
      "CLASSIFICATION REPORT\n",
      "                      precision    recall  f1-score   support\n",
      "\n",
      "      Avicennia Alba       1.00      1.00      1.00        10\n",
      "Rhizophora Apiculata       1.00      1.00      1.00        11\n",
      "     Sonneratia Alba       1.00      1.00      1.00        10\n",
      "\n",
      "            accuracy                           1.00        31\n",
      "           macro avg       1.00      1.00      1.00        31\n",
      "        weighted avg       1.00      1.00      1.00        31\n",
      "\n",
      "TEST ACCURACY: 100.0\n"
     ]
    },
    {
     "data": {
      "image/png": "[encoded data removed]",
      "text/plain": [
       "<Figure size 432x288 with 2 Axes>"
      ]
     },
     "metadata": {
      "needs_background": "light"
     },
     "output_type": "display_data"
    }
   ],
   "source": [
    "computeMetrics(torch.max(resnet_preds,1).indices,labels)"
   ]
  },
  {
   "cell_type": "code",
   "execution_count": 81,
   "id": "0671458d",
   "metadata": {},
   "outputs": [
    {
     "name": "stdout",
     "output_type": "stream",
     "text": [
      "epoch: 1 training loss 0.3320190356327937, training accuracy 0.11057692307692309\n",
      "epoch: 1 training loss 0.6799927124610314, training accuracy 0.22596153846153846\n",
      "epoch: 1 training loss 1.0097435070918157, training accuracy 0.34615384615384615\n",
      "epoch: 1 training loss 1.0917008381623488, training accuracy 0.38461538461538464\n",
      "epoch: 1 validation loss 0.8731637001037598, validation accuracy 0.8524590163934427\n",
      "epoch: 2 training loss 0.2702599305372972, training accuracy 0.22115384615384617\n",
      "epoch: 2 training loss 0.5312633697803204, training accuracy 0.4278846153846154\n",
      "epoch: 2 training loss 0.7691033620100755, training accuracy 0.6538461538461539\n",
      "epoch: 2 training loss 0.8263238301643958, training accuracy 0.7115384615384616\n",
      "epoch: 2 validation loss 0.6443255543708801, validation accuracy 0.7377049180327869\n",
      "epoch: 3 training loss 0.17925711778494027, training accuracy 0.2692307692307693\n",
      "epoch: 3 training loss 0.32780354756575364, training accuracy 0.5288461538461539\n",
      "epoch: 3 training loss 0.4271677824167105, training accuracy 0.8125\n",
      "epoch: 3 training loss 0.4773849615683922, training accuracy 0.8701923076923077\n",
      "epoch: 3 validation loss 0.27436062693595886, validation accuracy 0.9344262295081968\n",
      "epoch: 4 training loss 0.0965880980858436, training accuracy 0.28365384615384615\n",
      "epoch: 4 training loss 0.20062207258664644, training accuracy 0.5432692307692308\n",
      "epoch: 4 training loss 0.2656080676959111, training accuracy 0.8317307692307693\n",
      "epoch: 4 training loss 0.2817737769622069, training accuracy 0.9038461538461539\n",
      "epoch: 4 validation loss 0.10199335962533951, validation accuracy 0.9836065573770493\n",
      "epoch: 5 training loss 0.01904273720887991, training accuracy 0.3076923076923077\n",
      "epoch: 5 training loss 0.05415061116218567, training accuracy 0.6105769230769231\n",
      "epoch: 5 training loss 0.08536588457914498, training accuracy 0.9038461538461539\n",
      "epoch: 5 training loss 0.1046482828947214, training accuracy 0.9711538461538463\n",
      "epoch: 5 validation loss 0.33861374855041504, validation accuracy 0.8852459016393444\n",
      "epoch: 6 training loss 0.06914530809109028, training accuracy 0.27884615384615385\n",
      "epoch: 6 training loss 0.09961958114917462, training accuracy 0.576923076923077\n",
      "epoch: 6 training loss 0.10785148693965031, training accuracy 0.8846153846153847\n",
      "epoch: 6 training loss 0.10829613200173928, training accuracy 0.9615384615384616\n",
      "epoch: 6 validation loss 0.08462753146886826, validation accuracy 0.9672131147540984\n",
      "epoch: 7 training loss 0.034257164368262656, training accuracy 0.2932692307692308\n",
      "epoch: 7 training loss 0.07425886392593384, training accuracy 0.5865384615384616\n",
      "epoch: 7 training loss 0.088554974931937, training accuracy 0.889423076923077\n",
      "epoch: 7 training loss 0.09482478751586033, training accuracy 0.9615384615384616\n",
      "epoch: 7 validation loss 0.34611785411834717, validation accuracy 0.9016393442622951\n",
      "epoch: 8 training loss 0.01799859794286581, training accuracy 0.3028846153846154\n",
      "epoch: 8 training loss 0.06679496742211856, training accuracy 0.5721153846153847\n",
      "epoch: 8 training loss 0.06794065280029407, training accuracy 0.8798076923076924\n",
      "epoch: 8 training loss 0.13164136085945827, training accuracy 0.951923076923077\n",
      "epoch: 8 validation loss 0.0014647116186097264, validation accuracy 1.0\n",
      "epoch: 9 training loss 0.02197798628073472, training accuracy 0.2980769230769231\n",
      "epoch: 9 training loss 0.031455713969010576, training accuracy 0.6009615384615385\n",
      "epoch: 9 training loss 0.07455020684462327, training accuracy 0.889423076923077\n",
      "epoch: 9 training loss 0.07764170691370964, training accuracy 0.9663461538461539\n",
      "epoch: 9 validation loss 0.06562073528766632, validation accuracy 0.9836065573770493\n",
      "epoch: 10 training loss 0.005064343030636127, training accuracy 0.3076923076923077\n",
      "epoch: 10 training loss 0.023593001640759982, training accuracy 0.6105769230769231\n",
      "epoch: 10 training loss 0.04268715702570402, training accuracy 0.9086538461538463\n",
      "epoch: 10 training loss 0.04281197090704854, training accuracy 0.9855769230769231\n",
      "epoch: 10 validation loss 0.021668625995516777, validation accuracy 0.9836065573770493\n",
      "execution time 56.168641567230225\n"
     ]
    }
   ],
   "source": [
    "start = time.time()\n",
    "data_loaders,vgg_model = trainModel(10,64,0.001640,\"vgg16\") #20,48,0.5,256,0.001640\n",
    "end = time.time()\n",
    "\n",
    "print(f\"execution time {end-start}\")"
   ]
  },
  {
   "cell_type": "code",
   "execution_count": 82,
   "id": "aa85b230",
   "metadata": {},
   "outputs": [
    {
     "name": "stdout",
     "output_type": "stream",
     "text": [
      "CLASSIFICATION REPORT\n",
      "                      precision    recall  f1-score   support\n",
      "\n",
      "      Avicennia Alba       1.00      1.00      1.00        10\n",
      "Rhizophora Apiculata       1.00      1.00      1.00        11\n",
      "     Sonneratia Alba       1.00      1.00      1.00        10\n",
      "\n",
      "            accuracy                           1.00        31\n",
      "           macro avg       1.00      1.00      1.00        31\n",
      "        weighted avg       1.00      1.00      1.00        31\n",
      "\n",
      "TEST ACCURACY: 100.0\n"
     ]
    },
    {
     "data": {
      "image/png": "[encoded data removed]",
      "text/plain": [
       "<Figure size 432x288 with 2 Axes>"
      ]
     },
     "metadata": {
      "needs_background": "light"
     },
     "output_type": "display_data"
    }
   ],
   "source": [
    "vgg_preds,labels = testModel(vgg_model)\n",
    "computeMetrics(torch.max(vgg_preds,1).indices,labels)"
   ]
  },
  {
   "cell_type": "code",
   "execution_count": 88,
   "id": "540d9d76",
   "metadata": {},
   "outputs": [
    {
     "name": "stdout",
     "output_type": "stream",
     "text": [
      "epoch: 1 training loss 0.36458550966702974, training accuracy 0.10096153846153846\n",
      "epoch: 1 training loss 0.7339538427499624, training accuracy 0.23076923076923078\n",
      "epoch: 1 training loss 1.05293582035945, training accuracy 0.3605769230769231\n",
      "epoch: 1 training loss 1.122658371925354, training accuracy 0.40384615384615385\n",
      "epoch: 1 validation loss 0.8366422057151794, validation accuracy 0.639344262295082\n",
      "epoch: 2 training loss 0.234633574118981, training accuracy 0.21634615384615385\n",
      "epoch: 2 training loss 0.42851658967825085, training accuracy 0.46153846153846156\n",
      "epoch: 2 training loss 0.6087687382331262, training accuracy 0.6971153846153847\n",
      "epoch: 2 training loss 0.6607327231994042, training accuracy 0.7548076923076924\n",
      "epoch: 2 validation loss 0.6644918322563171, validation accuracy 0.7049180327868853\n",
      "epoch: 3 training loss 0.1648685381962703, training accuracy 0.2451923076923077\n",
      "epoch: 3 training loss 0.3551310942723201, training accuracy 0.4759615384615385\n",
      "epoch: 3 training loss 0.5349747217618502, training accuracy 0.7115384615384616\n",
      "epoch: 3 training loss 0.5673016837010016, training accuracy 0.7788461538461539\n",
      "epoch: 3 validation loss 0.3355887234210968, validation accuracy 0.9508196721311476\n",
      "epoch: 4 training loss 0.12218562456277701, training accuracy 0.27884615384615385\n",
      "epoch: 4 training loss 0.18600391424619234, training accuracy 0.5625\n",
      "epoch: 4 training loss 0.23975176077622634, training accuracy 0.8557692307692308\n",
      "epoch: 4 training loss 0.26135658759337205, training accuracy 0.9182692307692308\n",
      "epoch: 4 validation loss 0.3790169656276703, validation accuracy 0.8524590163934427\n",
      "epoch: 5 training loss 0.07791973994328426, training accuracy 0.2644230769230769\n",
      "epoch: 5 training loss 0.18702028347895697, training accuracy 0.5336538461538461\n",
      "epoch: 5 training loss 0.21687141290077797, training accuracy 0.8317307692307693\n",
      "epoch: 5 training loss 0.23808074914492094, training accuracy 0.8990384615384616\n",
      "epoch: 5 validation loss 0.23844601213932037, validation accuracy 0.8852459016393444\n",
      "epoch: 6 training loss 0.10144140170170711, training accuracy 0.28365384615384615\n",
      "epoch: 6 training loss 0.12223990834676303, training accuracy 0.5865384615384616\n",
      "epoch: 6 training loss 0.35123356259786165, training accuracy 0.8028846153846154\n",
      "epoch: 6 training loss 0.40289289905474734, training accuracy 0.8605769230769231\n",
      "epoch: 6 validation loss 2.1536920070648193, validation accuracy 0.39344262295081966\n",
      "epoch: 7 training loss 0.5528784898611215, training accuracy 0.15865384615384617\n",
      "epoch: 7 training loss 0.8568519445566031, training accuracy 0.3317307692307693\n",
      "epoch: 7 training loss 1.070463015482976, training accuracy 0.5576923076923077\n",
      "epoch: 7 training loss 1.2122842531937819, training accuracy 0.576923076923077\n",
      "epoch: 7 validation loss 2.115865468978882, validation accuracy 0.3442622950819672\n",
      "epoch: 8 training loss 0.5797444123488206, training accuracy 0.11538461538461539\n",
      "epoch: 8 training loss 1.0307860741248498, training accuracy 0.2403846153846154\n",
      "epoch: 8 training loss 1.1934990332676814, training accuracy 0.4903846153846154\n",
      "epoch: 8 training loss 1.2578765749931335, training accuracy 0.5480769230769231\n",
      "epoch: 8 validation loss 1.2127734422683716, validation accuracy 0.49180327868852464\n",
      "epoch: 9 training loss 0.2542570921090933, training accuracy 0.20673076923076925\n",
      "epoch: 9 training loss 0.43435060060941255, training accuracy 0.4375\n",
      "epoch: 9 training loss 0.5652324786553016, training accuracy 0.6971153846153847\n",
      "epoch: 9 training loss 0.5971422585157248, training accuracy 0.7692307692307693\n",
      "epoch: 9 validation loss 0.7967627644538879, validation accuracy 0.6557377049180328\n",
      "epoch: 10 training loss 0.1531845056093656, training accuracy 0.25961538461538464\n",
      "epoch: 10 training loss 0.29610632016108585, training accuracy 0.5192307692307693\n",
      "epoch: 10 training loss 0.47141086138211763, training accuracy 0.75\n",
      "epoch: 10 training loss 0.5092677313547868, training accuracy 0.8076923076923077\n",
      "epoch: 10 validation loss 0.9038279056549072, validation accuracy 0.49180327868852464\n",
      "execution time 49.85382962226868\n"
     ]
    }
   ],
   "source": [
    "start = time.time()\n",
    "data_loaders,alexnet_model = trainModel(10,64,0.001640,\"alexnet\") #20,48,0.5,256,0.001640\n",
    "end = time.time()\n",
    "\n",
    "print(f\"execution time {end-start}\")"
   ]
  },
  {
   "cell_type": "code",
   "execution_count": 89,
   "id": "ce90b6ef",
   "metadata": {},
   "outputs": [
    {
     "name": "stdout",
     "output_type": "stream",
     "text": [
      "CLASSIFICATION REPORT\n",
      "                      precision    recall  f1-score   support\n",
      "\n",
      "      Avicennia Alba       0.77      1.00      0.87        10\n",
      "Rhizophora Apiculata       0.71      0.91      0.80        11\n",
      "     Sonneratia Alba       1.00      0.40      0.57        10\n",
      "\n",
      "            accuracy                           0.77        31\n",
      "           macro avg       0.83      0.77      0.75        31\n",
      "        weighted avg       0.82      0.77      0.75        31\n",
      "\n",
      "TEST ACCURACY: 77.41935483870968\n"
     ]
    },
    {
     "data": {
      "image/png": "[encoded data removed]",
      "text/plain": [
       "<Figure size 432x288 with 2 Axes>"
      ]
     },
     "metadata": {
      "needs_background": "light"
     },
     "output_type": "display_data"
    }
   ],
   "source": [
    "alexnet_preds,labels = testModel(alexnet_model)\n",
    "computeMetrics(torch.max(alexnet_preds,1).indices,labels)"
   ]
  },
  {
   "cell_type": "code",
   "execution_count": null,
   "id": "55219f97",
   "metadata": {},
   "outputs": [],
   "source": []
  }
 ],
 "metadata": {
  "accelerator": "GPU",
  "colab": {
   "gpuType": "L4",
   "include_colab_link": true,
   "machine_shape": "hm",
   "provenance": []
  },
  "kernelspec": {
   "display_name": "Python 3 (ipykernel)",
   "language": "python",
   "name": "python3"
  },
  "language_info": {
   "codemirror_mode": {
    "name": "ipython",
    "version": 3
   },
   "file_extension": ".py",
   "mimetype": "text/x-python",
   "name": "python",
   "nbconvert_exporter": "python",
   "pygments_lexer": "ipython3",
   "version": "3.10.12"
  }
 },
 "nbformat": 4,
 "nbformat_minor": 5
}
